{
 "cells": [
  {
   "cell_type": "markdown",
   "metadata": {},
   "source": [
    "# Comparison of different Classification Algorithms\n",
    "\n"
   ]
  },
  {
   "cell_type": "code",
   "execution_count": 1,
   "metadata": {
    "collapsed": true
   },
   "outputs": [],
   "source": [
    "import sklearn\n",
    "import numpy as np\n",
    "import pandas as pd\n",
    "\n",
    "from main import aggregate_data, normalize_data\n",
    "from metrics.githubMetrics import GithubMetrics, metricCollection\n",
    "from importer.testDataImporter import TestDataImporter"
   ]
  },
  {
   "cell_type": "code",
   "execution_count": 2,
   "metadata": {
    "collapsed": true
   },
   "outputs": [],
   "source": [
    "importer = TestDataImporter('data/testset.csv')\n",
    "y_train = np.array(importer.trainset.classification)\n",
    "y_test = np.array(importer.testset.classification)"
   ]
  },
  {
   "cell_type": "code",
   "execution_count": 3,
   "metadata": {
    "collapsed": false
   },
   "outputs": [
    {
     "data": {
      "text/html": [
       "<div>\n",
       "<table border=\"1\" class=\"dataframe\">\n",
       "  <thead>\n",
       "    <tr style=\"text-align: right;\">\n",
       "      <th></th>\n",
       "      <th>avg_entropy</th>\n",
       "      <th>forks_count</th>\n",
       "      <th>repo_size</th>\n",
       "      <th>open_issue_count</th>\n",
       "      <th>avg_folder_depth</th>\n",
       "      <th>watcher_count</th>\n",
       "      <th>file_folder_ratio</th>\n",
       "      <th>up_to_dateness</th>\n",
       "      <th>file_count</th>\n",
       "    </tr>\n",
       "  </thead>\n",
       "  <tbody>\n",
       "    <tr>\n",
       "      <th>0</th>\n",
       "      <td>0.251590</td>\n",
       "      <td>0.566949</td>\n",
       "      <td>0.752917</td>\n",
       "      <td>0.641663</td>\n",
       "      <td>0.253733</td>\n",
       "      <td>0.770764</td>\n",
       "      <td>0.330773</td>\n",
       "      <td>0.026821</td>\n",
       "      <td>0.405086</td>\n",
       "    </tr>\n",
       "    <tr>\n",
       "      <th>1</th>\n",
       "      <td>0.270911</td>\n",
       "      <td>0.534790</td>\n",
       "      <td>0.370083</td>\n",
       "      <td>0.151630</td>\n",
       "      <td>0.333086</td>\n",
       "      <td>0.753491</td>\n",
       "      <td>0.084179</td>\n",
       "      <td>0.708447</td>\n",
       "      <td>0.136859</td>\n",
       "    </tr>\n",
       "    <tr>\n",
       "      <th>2</th>\n",
       "      <td>0.431880</td>\n",
       "      <td>0.000000</td>\n",
       "      <td>0.735055</td>\n",
       "      <td>0.000000</td>\n",
       "      <td>0.236519</td>\n",
       "      <td>0.000000</td>\n",
       "      <td>0.275341</td>\n",
       "      <td>0.597203</td>\n",
       "      <td>0.484467</td>\n",
       "    </tr>\n",
       "    <tr>\n",
       "      <th>3</th>\n",
       "      <td>0.232237</td>\n",
       "      <td>0.000000</td>\n",
       "      <td>0.373685</td>\n",
       "      <td>0.000000</td>\n",
       "      <td>0.736634</td>\n",
       "      <td>0.000000</td>\n",
       "      <td>0.169776</td>\n",
       "      <td>0.498483</td>\n",
       "      <td>0.344582</td>\n",
       "    </tr>\n",
       "    <tr>\n",
       "      <th>4</th>\n",
       "      <td>0.259969</td>\n",
       "      <td>0.000000</td>\n",
       "      <td>0.508795</td>\n",
       "      <td>0.000000</td>\n",
       "      <td>0.534729</td>\n",
       "      <td>0.000000</td>\n",
       "      <td>0.210574</td>\n",
       "      <td>0.873993</td>\n",
       "      <td>0.349585</td>\n",
       "    </tr>\n",
       "  </tbody>\n",
       "</table>\n",
       "</div>"
      ],
      "text/plain": [
       "   avg_entropy  forks_count  repo_size  open_issue_count  avg_folder_depth  \\\n",
       "0     0.251590     0.566949   0.752917          0.641663          0.253733   \n",
       "1     0.270911     0.534790   0.370083          0.151630          0.333086   \n",
       "2     0.431880     0.000000   0.735055          0.000000          0.236519   \n",
       "3     0.232237     0.000000   0.373685          0.000000          0.736634   \n",
       "4     0.259969     0.000000   0.508795          0.000000          0.534729   \n",
       "\n",
       "   watcher_count  file_folder_ratio  up_to_dateness  file_count  \n",
       "0       0.770764           0.330773        0.026821    0.405086  \n",
       "1       0.753491           0.084179        0.708447    0.136859  \n",
       "2       0.000000           0.275341        0.597203    0.484467  \n",
       "3       0.000000           0.169776        0.498483    0.344582  \n",
       "4       0.000000           0.210574        0.873993    0.349585  "
      ]
     },
     "execution_count": 3,
     "metadata": {},
     "output_type": "execute_result"
    }
   ],
   "source": [
    "data_train = aggregate_data(importer.trainset.repos)\n",
    "data_train = normalize_data(data_train)\n",
    "data_train[:5]"
   ]
  },
  {
   "cell_type": "code",
   "execution_count": 4,
   "metadata": {
    "collapsed": false,
    "scrolled": true
   },
   "outputs": [
    {
     "data": {
      "text/html": [
       "<div>\n",
       "<table border=\"1\" class=\"dataframe\">\n",
       "  <thead>\n",
       "    <tr style=\"text-align: right;\">\n",
       "      <th></th>\n",
       "      <th>avg_entropy</th>\n",
       "      <th>forks_count</th>\n",
       "      <th>repo_size</th>\n",
       "      <th>open_issue_count</th>\n",
       "      <th>avg_folder_depth</th>\n",
       "      <th>watcher_count</th>\n",
       "      <th>file_folder_ratio</th>\n",
       "      <th>up_to_dateness</th>\n",
       "      <th>file_count</th>\n",
       "    </tr>\n",
       "  </thead>\n",
       "  <tbody>\n",
       "    <tr>\n",
       "      <th>0</th>\n",
       "      <td>0.564294</td>\n",
       "      <td>0.730426</td>\n",
       "      <td>0.747260</td>\n",
       "      <td>0.150190</td>\n",
       "      <td>0.310194</td>\n",
       "      <td>0.421838</td>\n",
       "      <td>0.191077</td>\n",
       "      <td>0.539362</td>\n",
       "      <td>0.252792</td>\n",
       "    </tr>\n",
       "    <tr>\n",
       "      <th>1</th>\n",
       "      <td>0.741162</td>\n",
       "      <td>0.000000</td>\n",
       "      <td>0.723308</td>\n",
       "      <td>0.000000</td>\n",
       "      <td>0.339471</td>\n",
       "      <td>0.000000</td>\n",
       "      <td>0.020757</td>\n",
       "      <td>0.877016</td>\n",
       "      <td>0.197237</td>\n",
       "    </tr>\n",
       "    <tr>\n",
       "      <th>2</th>\n",
       "      <td>0.769716</td>\n",
       "      <td>0.000000</td>\n",
       "      <td>0.408197</td>\n",
       "      <td>0.000000</td>\n",
       "      <td>0.359101</td>\n",
       "      <td>0.073646</td>\n",
       "      <td>0.014088</td>\n",
       "      <td>0.971735</td>\n",
       "      <td>0.167862</td>\n",
       "    </tr>\n",
       "    <tr>\n",
       "      <th>3</th>\n",
       "      <td>0.527382</td>\n",
       "      <td>0.485355</td>\n",
       "      <td>0.763555</td>\n",
       "      <td>0.834246</td>\n",
       "      <td>0.282112</td>\n",
       "      <td>0.073646</td>\n",
       "      <td>0.048594</td>\n",
       "      <td>0.766765</td>\n",
       "      <td>0.123329</td>\n",
       "    </tr>\n",
       "    <tr>\n",
       "      <th>4</th>\n",
       "      <td>0.516772</td>\n",
       "      <td>0.427203</td>\n",
       "      <td>0.724402</td>\n",
       "      <td>0.555771</td>\n",
       "      <td>0.804519</td>\n",
       "      <td>0.441875</td>\n",
       "      <td>0.162831</td>\n",
       "      <td>0.201886</td>\n",
       "      <td>0.538326</td>\n",
       "    </tr>\n",
       "  </tbody>\n",
       "</table>\n",
       "</div>"
      ],
      "text/plain": [
       "   avg_entropy  forks_count  repo_size  open_issue_count  avg_folder_depth  \\\n",
       "0     0.564294     0.730426   0.747260          0.150190          0.310194   \n",
       "1     0.741162     0.000000   0.723308          0.000000          0.339471   \n",
       "2     0.769716     0.000000   0.408197          0.000000          0.359101   \n",
       "3     0.527382     0.485355   0.763555          0.834246          0.282112   \n",
       "4     0.516772     0.427203   0.724402          0.555771          0.804519   \n",
       "\n",
       "   watcher_count  file_folder_ratio  up_to_dateness  file_count  \n",
       "0       0.421838           0.191077        0.539362    0.252792  \n",
       "1       0.000000           0.020757        0.877016    0.197237  \n",
       "2       0.073646           0.014088        0.971735    0.167862  \n",
       "3       0.073646           0.048594        0.766765    0.123329  \n",
       "4       0.441875           0.162831        0.201886    0.538326  "
      ]
     },
     "execution_count": 4,
     "metadata": {},
     "output_type": "execute_result"
    }
   ],
   "source": [
    "data_test = aggregate_data(importer.testset.repos)\n",
    "data_test = normalize_data(data_test)\n",
    "data_test[:5]"
   ]
  },
  {
   "cell_type": "markdown",
   "metadata": {},
   "source": [
    "## Helper"
   ]
  },
  {
   "cell_type": "code",
   "execution_count": 5,
   "metadata": {
    "collapsed": true
   },
   "outputs": [],
   "source": [
    "def analyze_results(model):\n",
    "    print('acc train:', model.score(data_train, y_train))\n",
    "    print('acc test:', model.score(data_test, y_test))"
   ]
  },
  {
   "cell_type": "code",
   "execution_count": 6,
   "metadata": {
    "collapsed": true
   },
   "outputs": [],
   "source": [
    "def null_acc(y):\n",
    "    return max([len(y[y == x]) for x in np.unique(y)]) / len(y)"
   ]
  },
  {
   "cell_type": "code",
   "execution_count": 7,
   "metadata": {
    "collapsed": false
   },
   "outputs": [
    {
     "name": "stdout",
     "output_type": "stream",
     "text": [
      "acc train: 0.3951890034364261\n",
      "acc test: 0.33544303797468356\n"
     ]
    }
   ],
   "source": [
    "print('acc train:', null_acc(y_train))\n",
    "print('acc test:', null_acc(y_test))"
   ]
  },
  {
   "cell_type": "markdown",
   "metadata": {},
   "source": [
    "## Logistic Regression"
   ]
  },
  {
   "cell_type": "code",
   "execution_count": 8,
   "metadata": {
    "collapsed": false
   },
   "outputs": [
    {
     "data": {
      "text/plain": [
       "LogisticRegression(C=1.0, class_weight=None, dual=False, fit_intercept=True,\n",
       "          intercept_scaling=1, max_iter=100, multi_class='ovr', n_jobs=2,\n",
       "          penalty='l2', random_state=None, solver='liblinear', tol=0.0001,\n",
       "          verbose=0, warm_start=False)"
      ]
     },
     "execution_count": 8,
     "metadata": {},
     "output_type": "execute_result"
    }
   ],
   "source": [
    "logreg = sklearn.linear_model.LogisticRegression(C=1.0, max_iter=100, n_jobs=2)\n",
    "logreg.fit(data_train, y_train)"
   ]
  },
  {
   "cell_type": "code",
   "execution_count": 9,
   "metadata": {
    "collapsed": false
   },
   "outputs": [
    {
     "data": {
      "text/plain": [
       "array([[ 0.22457466,  0.43948792, -0.26185993, -0.82029758, -1.19206779,\n",
       "         1.40746356,  0.5656693 , -0.64466193, -0.90217353],\n",
       "       [-1.02194912, -1.34278266,  1.21066623,  0.96252042,  0.37297587,\n",
       "        -0.88031193,  0.89368225, -1.3657322 ,  1.39492158],\n",
       "       [ 1.30662512, -0.58647011,  0.37402214,  0.15644162, -1.55369588,\n",
       "         0.04955791, -0.52736235, -0.27016482, -0.33191972],\n",
       "       [-0.23836844,  1.73642814, -0.24225152, -0.70562363, -0.24501599,\n",
       "         1.08265998, -0.52485589, -0.19036835, -0.61391072],\n",
       "       [-0.65939469,  0.2266435 , -0.36361769, -0.39197227, -0.32206543,\n",
       "        -1.04133017, -0.24770463,  0.18770769,  0.67372841],\n",
       "       [-0.44397304, -0.75385378, -3.15828118,  0.00546681,  0.55295501,\n",
       "        -0.73306548, -1.31927554,  0.53443706, -1.95426283],\n",
       "       [ 0.21905238, -0.70549327,  0.0931602 , -0.48216327, -0.84946616,\n",
       "        -0.99551816, -0.19199932, -1.59805084, -0.32892676]])"
      ]
     },
     "execution_count": 9,
     "metadata": {},
     "output_type": "execute_result"
    }
   ],
   "source": [
    "logreg.coef_"
   ]
  },
  {
   "cell_type": "code",
   "execution_count": 10,
   "metadata": {
    "collapsed": false
   },
   "outputs": [
    {
     "name": "stdout",
     "output_type": "stream",
     "text": [
      "acc train: 0.477663230241\n",
      "acc test: 0.462025316456\n"
     ]
    }
   ],
   "source": [
    "analyze_results(logreg)"
   ]
  },
  {
   "cell_type": "markdown",
   "metadata": {},
   "source": [
    "## SVM"
   ]
  },
  {
   "cell_type": "code",
   "execution_count": 11,
   "metadata": {
    "collapsed": false
   },
   "outputs": [
    {
     "data": {
      "text/plain": [
       "SVC(C=20.0, cache_size=200, class_weight=None, coef0=0.0,\n",
       "  decision_function_shape=None, degree=3, gamma='auto', kernel='rbf',\n",
       "  max_iter=-1, probability=False, random_state=None, shrinking=True,\n",
       "  tol=0.001, verbose=False)"
      ]
     },
     "execution_count": 11,
     "metadata": {},
     "output_type": "execute_result"
    }
   ],
   "source": [
    "svm = sklearn.svm.SVC(C=20.0)\n",
    "svm.fit(data_train, y_train)"
   ]
  },
  {
   "cell_type": "code",
   "execution_count": 12,
   "metadata": {
    "collapsed": false
   },
   "outputs": [
    {
     "name": "stdout",
     "output_type": "stream",
     "text": [
      "acc train: 0.563573883162\n",
      "acc test: 0.512658227848\n"
     ]
    }
   ],
   "source": [
    "analyze_results(svm)"
   ]
  },
  {
   "cell_type": "markdown",
   "metadata": {},
   "source": [
    "## DecisionTree"
   ]
  },
  {
   "cell_type": "code",
   "execution_count": 14,
   "metadata": {
    "collapsed": false
   },
   "outputs": [],
   "source": [
    "from sklearn.tree import DecisionTreeClassifier"
   ]
  },
  {
   "cell_type": "code",
   "execution_count": 17,
   "metadata": {
    "collapsed": false
   },
   "outputs": [
    {
     "data": {
      "text/plain": [
       "DecisionTreeClassifier(class_weight=None, criterion='gini', max_depth=None,\n",
       "            max_features=None, max_leaf_nodes=None,\n",
       "            min_impurity_split=1e-07, min_samples_leaf=1,\n",
       "            min_samples_split=2, min_weight_fraction_leaf=0.0,\n",
       "            presort=False, random_state=None, splitter='best')"
      ]
     },
     "execution_count": 17,
     "metadata": {},
     "output_type": "execute_result"
    }
   ],
   "source": [
    "dtc = DecisionTreeClassifier()\n",
    "dtc.fit(data_train, y_train)"
   ]
  },
  {
   "cell_type": "code",
   "execution_count": 18,
   "metadata": {
    "collapsed": false
   },
   "outputs": [
    {
     "name": "stdout",
     "output_type": "stream",
     "text": [
      "acc train: 0.993127147766\n",
      "acc test: 0.322784810127\n"
     ]
    }
   ],
   "source": [
    "analyze_results(dtc)"
   ]
  },
  {
   "cell_type": "markdown",
   "metadata": {},
   "source": [
    "## Random Forest"
   ]
  },
  {
   "cell_type": "code",
   "execution_count": 71,
   "metadata": {
    "collapsed": false
   },
   "outputs": [
    {
     "data": {
      "text/plain": [
       "RandomForestClassifier(bootstrap=True, class_weight=None, criterion='gini',\n",
       "            max_depth=None, max_features='auto', max_leaf_nodes=None,\n",
       "            min_impurity_split=1e-07, min_samples_leaf=1,\n",
       "            min_samples_split=2, min_weight_fraction_leaf=0.0,\n",
       "            n_estimators=100, n_jobs=1, oob_score=False, random_state=1337,\n",
       "            verbose=0, warm_start=False)"
      ]
     },
     "execution_count": 71,
     "metadata": {},
     "output_type": "execute_result"
    }
   ],
   "source": [
    "from sklearn.ensemble import RandomForestClassifier\n",
    "rf = sklearn.ensemble.RandomForestClassifier(n_estimators=100, random_state=1337)\n",
    "rf.fit(data_train, y_train)"
   ]
  },
  {
   "cell_type": "code",
   "execution_count": 72,
   "metadata": {
    "collapsed": false
   },
   "outputs": [
    {
     "name": "stdout",
     "output_type": "stream",
     "text": [
      "acc train: 0.993127147766\n",
      "acc test: 0.46835443038\n"
     ]
    }
   ],
   "source": [
    "analyze_results(rf)"
   ]
  },
  {
   "cell_type": "markdown",
   "metadata": {},
   "source": [
    "## NN"
   ]
  },
  {
   "cell_type": "code",
   "execution_count": 19,
   "metadata": {
    "collapsed": true
   },
   "outputs": [],
   "source": [
    "from sklearn.neural_network import MLPClassifier"
   ]
  },
  {
   "cell_type": "code",
   "execution_count": 63,
   "metadata": {
    "collapsed": false
   },
   "outputs": [
    {
     "name": "stderr",
     "output_type": "stream",
     "text": [
      "/Users/mbornstein/anaconda/lib/python3.5/site-packages/sklearn/neural_network/multilayer_perceptron.py:563: ConvergenceWarning: Stochastic Optimizer: Maximum iterations reached and the optimization hasn't converged yet.\n",
      "  % (), ConvergenceWarning)\n"
     ]
    },
    {
     "data": {
      "text/plain": [
       "MLPClassifier(activation='relu', alpha=0.0001, batch_size='auto', beta_1=0.9,\n",
       "       beta_2=0.999, early_stopping=False, epsilon=1e-08,\n",
       "       hidden_layer_sizes=(100,), learning_rate='constant',\n",
       "       learning_rate_init=0.001, max_iter=200, momentum=0.9,\n",
       "       nesterovs_momentum=True, power_t=0.5, random_state=None,\n",
       "       shuffle=True, solver='adam', tol=0.0001, validation_fraction=0.1,\n",
       "       verbose=False, warm_start=False)"
      ]
     },
     "execution_count": 63,
     "metadata": {},
     "output_type": "execute_result"
    }
   ],
   "source": [
    "mlp = MLPClassifier(max_iter=200, hidden_layer_sizes=(100,))\n",
    "mlp.fit(data_train, y_train)"
   ]
  },
  {
   "cell_type": "code",
   "execution_count": 64,
   "metadata": {
    "collapsed": false
   },
   "outputs": [
    {
     "name": "stdout",
     "output_type": "stream",
     "text": [
      "acc train: 0.525773195876\n",
      "acc test: 0.487341772152\n"
     ]
    }
   ],
   "source": [
    "analyze_results(mlp)"
   ]
  }
 ],
 "metadata": {
  "kernelspec": {
   "display_name": "Python 3",
   "language": "python",
   "name": "python3"
  },
  "language_info": {
   "codemirror_mode": {
    "name": "ipython",
    "version": 3
   },
   "file_extension": ".py",
   "mimetype": "text/x-python",
   "name": "python",
   "nbconvert_exporter": "python",
   "pygments_lexer": "ipython3",
   "version": "3.5.2"
  }
 },
 "nbformat": 4,
 "nbformat_minor": 0
}
