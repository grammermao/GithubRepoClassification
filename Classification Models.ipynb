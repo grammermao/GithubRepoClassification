{
 "cells": [
  {
   "cell_type": "markdown",
   "metadata": {},
   "source": [
    "# Comparison of different Classification Algorithms\n",
    "\n"
   ]
  },
  {
   "cell_type": "code",
   "execution_count": 11,
   "metadata": {
    "collapsed": true
   },
   "outputs": [],
   "source": [
    "import sklearn\n",
    "import numpy as np\n",
    "import pandas as pd\n",
    "\n",
    "from main import aggregate_data, normalize_data\n",
    "from metrics.githubMetrics import GithubMetrics, metricCollection\n",
    "from importer.testDataImporter import TestDataImporter"
   ]
  },
  {
   "cell_type": "code",
   "execution_count": 12,
   "metadata": {
    "collapsed": true
   },
   "outputs": [],
   "source": [
    "importer = TestDataImporter('data/testset.csv')\n",
    "y_train = np.array(importer.trainset.classification)\n",
    "y_test = np.array(importer.testset.classification)"
   ]
  },
  {
   "cell_type": "code",
   "execution_count": 35,
   "metadata": {
    "collapsed": false
   },
   "outputs": [
    {
     "data": {
      "text/plain": [
       "array(['html_count', 'up_to_dateness', 'watcher_count', 'avg_entropy',\n",
       "       'file_count', 'is_io_page', 'open_issue_count', 'file_folder_ratio',\n",
       "       'forks_count', 'repo_size', 'avg_folder_depth'], \n",
       "      dtype='<U17')"
      ]
     },
     "execution_count": 35,
     "metadata": {},
     "output_type": "execute_result"
    }
   ],
   "source": [
    "metrics = np.array(list(metricCollection.keys()))\n",
    "metrics"
   ]
  },
  {
   "cell_type": "code",
   "execution_count": 45,
   "metadata": {
    "collapsed": false
   },
   "outputs": [
    {
     "data": {
      "text/html": [
       "<div>\n",
       "<table border=\"1\" class=\"dataframe\">\n",
       "  <thead>\n",
       "    <tr style=\"text-align: right;\">\n",
       "      <th></th>\n",
       "      <th>html_count</th>\n",
       "      <th>up_to_dateness</th>\n",
       "      <th>watcher_count</th>\n",
       "      <th>avg_entropy</th>\n",
       "      <th>file_count</th>\n",
       "      <th>is_io_page</th>\n",
       "      <th>open_issue_count</th>\n",
       "      <th>file_folder_ratio</th>\n",
       "      <th>forks_count</th>\n",
       "      <th>repo_size</th>\n",
       "      <th>avg_folder_depth</th>\n",
       "    </tr>\n",
       "  </thead>\n",
       "  <tbody>\n",
       "    <tr>\n",
       "      <th>0</th>\n",
       "      <td>0</td>\n",
       "      <td>5.324161e+03</td>\n",
       "      <td>4640</td>\n",
       "      <td>0.607567</td>\n",
       "      <td>628</td>\n",
       "      <td>0</td>\n",
       "      <td>352</td>\n",
       "      <td>9.661538</td>\n",
       "      <td>635</td>\n",
       "      <td>77453</td>\n",
       "      <td>2.250000</td>\n",
       "    </tr>\n",
       "    <tr>\n",
       "      <th>1</th>\n",
       "      <td>0</td>\n",
       "      <td>9.972311e+06</td>\n",
       "      <td>3840</td>\n",
       "      <td>0.616400</td>\n",
       "      <td>52</td>\n",
       "      <td>0</td>\n",
       "      <td>3</td>\n",
       "      <td>2.080000</td>\n",
       "      <td>440</td>\n",
       "      <td>252</td>\n",
       "      <td>2.625000</td>\n",
       "    </tr>\n",
       "    <tr>\n",
       "      <th>2</th>\n",
       "      <td>0</td>\n",
       "      <td>2.915525e+06</td>\n",
       "      <td>0</td>\n",
       "      <td>0.691902</td>\n",
       "      <td>1307</td>\n",
       "      <td>0</td>\n",
       "      <td>0</td>\n",
       "      <td>7.064865</td>\n",
       "      <td>0</td>\n",
       "      <td>59299</td>\n",
       "      <td>2.173913</td>\n",
       "    </tr>\n",
       "    <tr>\n",
       "      <th>3</th>\n",
       "      <td>0</td>\n",
       "      <td>9.789647e+05</td>\n",
       "      <td>0</td>\n",
       "      <td>0.598768</td>\n",
       "      <td>359</td>\n",
       "      <td>0</td>\n",
       "      <td>0</td>\n",
       "      <td>3.739583</td>\n",
       "      <td>0</td>\n",
       "      <td>266</td>\n",
       "      <td>5.316667</td>\n",
       "    </tr>\n",
       "    <tr>\n",
       "      <th>4</th>\n",
       "      <td>0</td>\n",
       "      <td>6.216928e+07</td>\n",
       "      <td>0</td>\n",
       "      <td>0.611392</td>\n",
       "      <td>376</td>\n",
       "      <td>0</td>\n",
       "      <td>0</td>\n",
       "      <td>4.820513</td>\n",
       "      <td>0</td>\n",
       "      <td>2012</td>\n",
       "      <td>3.784314</td>\n",
       "    </tr>\n",
       "  </tbody>\n",
       "</table>\n",
       "</div>"
      ],
      "text/plain": [
       "   html_count  up_to_dateness  watcher_count  avg_entropy  file_count  \\\n",
       "0           0    5.324161e+03           4640     0.607567         628   \n",
       "1           0    9.972311e+06           3840     0.616400          52   \n",
       "2           0    2.915525e+06              0     0.691902        1307   \n",
       "3           0    9.789647e+05              0     0.598768         359   \n",
       "4           0    6.216928e+07              0     0.611392         376   \n",
       "\n",
       "   is_io_page  open_issue_count  file_folder_ratio  forks_count  repo_size  \\\n",
       "0           0               352           9.661538          635      77453   \n",
       "1           0                 3           2.080000          440        252   \n",
       "2           0                 0           7.064865            0      59299   \n",
       "3           0                 0           3.739583            0        266   \n",
       "4           0                 0           4.820513            0       2012   \n",
       "\n",
       "   avg_folder_depth  \n",
       "0          2.250000  \n",
       "1          2.625000  \n",
       "2          2.173913  \n",
       "3          5.316667  \n",
       "4          3.784314  "
      ]
     },
     "execution_count": 45,
     "metadata": {},
     "output_type": "execute_result"
    }
   ],
   "source": [
    "data_train = aggregate_data(importer.trainset.repos)\n",
    "data_train = data_train[metrics]\n",
    "#data_train = normalize_data(data_train)\n",
    "data_train[:5]"
   ]
  },
  {
   "cell_type": "code",
   "execution_count": 44,
   "metadata": {
    "collapsed": false,
    "scrolled": false
   },
   "outputs": [
    {
     "data": {
      "text/html": [
       "<div>\n",
       "<table border=\"1\" class=\"dataframe\">\n",
       "  <thead>\n",
       "    <tr style=\"text-align: right;\">\n",
       "      <th></th>\n",
       "      <th>html_count</th>\n",
       "      <th>up_to_dateness</th>\n",
       "      <th>watcher_count</th>\n",
       "      <th>avg_entropy</th>\n",
       "      <th>file_count</th>\n",
       "      <th>is_io_page</th>\n",
       "      <th>open_issue_count</th>\n",
       "      <th>file_folder_ratio</th>\n",
       "      <th>forks_count</th>\n",
       "      <th>repo_size</th>\n",
       "      <th>avg_folder_depth</th>\n",
       "    </tr>\n",
       "  </thead>\n",
       "  <tbody>\n",
       "    <tr>\n",
       "      <th>0</th>\n",
       "      <td>1</td>\n",
       "      <td>3.154210e+06</td>\n",
       "      <td>52</td>\n",
       "      <td>0.631231</td>\n",
       "      <td>111</td>\n",
       "      <td>0</td>\n",
       "      <td>1</td>\n",
       "      <td>4.269231</td>\n",
       "      <td>126</td>\n",
       "      <td>15860</td>\n",
       "      <td>2.750000</td>\n",
       "    </tr>\n",
       "    <tr>\n",
       "      <th>1</th>\n",
       "      <td>0</td>\n",
       "      <td>6.967707e+07</td>\n",
       "      <td>0</td>\n",
       "      <td>0.743107</td>\n",
       "      <td>71</td>\n",
       "      <td>0</td>\n",
       "      <td>0</td>\n",
       "      <td>1.290909</td>\n",
       "      <td>0</td>\n",
       "      <td>11632</td>\n",
       "      <td>2.913043</td>\n",
       "    </tr>\n",
       "    <tr>\n",
       "      <th>2</th>\n",
       "      <td>0</td>\n",
       "      <td>1.660222e+08</td>\n",
       "      <td>1</td>\n",
       "      <td>0.761874</td>\n",
       "      <td>56</td>\n",
       "      <td>0</td>\n",
       "      <td>0</td>\n",
       "      <td>1.217391</td>\n",
       "      <td>0</td>\n",
       "      <td>196</td>\n",
       "      <td>3.026316</td>\n",
       "    </tr>\n",
       "    <tr>\n",
       "      <th>3</th>\n",
       "      <td>0</td>\n",
       "      <td>2.536198e+07</td>\n",
       "      <td>1</td>\n",
       "      <td>0.608805</td>\n",
       "      <td>39</td>\n",
       "      <td>0</td>\n",
       "      <td>46</td>\n",
       "      <td>1.625000</td>\n",
       "      <td>24</td>\n",
       "      <td>19584</td>\n",
       "      <td>2.600000</td>\n",
       "    </tr>\n",
       "    <tr>\n",
       "      <th>4</th>\n",
       "      <td>5</td>\n",
       "      <td>1.430204e+05</td>\n",
       "      <td>63</td>\n",
       "      <td>0.602415</td>\n",
       "      <td>1084</td>\n",
       "      <td>0</td>\n",
       "      <td>12</td>\n",
       "      <td>3.589404</td>\n",
       "      <td>16</td>\n",
       "      <td>11798</td>\n",
       "      <td>6.693333</td>\n",
       "    </tr>\n",
       "  </tbody>\n",
       "</table>\n",
       "</div>"
      ],
      "text/plain": [
       "   html_count  up_to_dateness  watcher_count  avg_entropy  file_count  \\\n",
       "0           1    3.154210e+06             52     0.631231         111   \n",
       "1           0    6.967707e+07              0     0.743107          71   \n",
       "2           0    1.660222e+08              1     0.761874          56   \n",
       "3           0    2.536198e+07              1     0.608805          39   \n",
       "4           5    1.430204e+05             63     0.602415        1084   \n",
       "\n",
       "   is_io_page  open_issue_count  file_folder_ratio  forks_count  repo_size  \\\n",
       "0           0                 1           4.269231          126      15860   \n",
       "1           0                 0           1.290909            0      11632   \n",
       "2           0                 0           1.217391            0        196   \n",
       "3           0                46           1.625000           24      19584   \n",
       "4           0                12           3.589404           16      11798   \n",
       "\n",
       "   avg_folder_depth  \n",
       "0          2.750000  \n",
       "1          2.913043  \n",
       "2          3.026316  \n",
       "3          2.600000  \n",
       "4          6.693333  "
      ]
     },
     "execution_count": 44,
     "metadata": {},
     "output_type": "execute_result"
    }
   ],
   "source": [
    "data_test = aggregate_data(importer.testset.repos)\n",
    "data_test = data_test[metrics]\n",
    "#data_test = normalize_data(data_test)\n",
    "data_test[:5]"
   ]
  },
  {
   "cell_type": "markdown",
   "metadata": {},
   "source": [
    "## Helper"
   ]
  },
  {
   "cell_type": "code",
   "execution_count": 46,
   "metadata": {
    "collapsed": true
   },
   "outputs": [],
   "source": [
    "def analyze_results(model):\n",
    "    print('acc train:', model.score(data_train, y_train))\n",
    "    print('acc test:', model.score(data_test, y_test))"
   ]
  },
  {
   "cell_type": "code",
   "execution_count": 47,
   "metadata": {
    "collapsed": true
   },
   "outputs": [],
   "source": [
    "def null_acc(y):\n",
    "    return max([len(y[y == x]) for x in np.unique(y)]) / len(y)"
   ]
  },
  {
   "cell_type": "code",
   "execution_count": 48,
   "metadata": {
    "collapsed": false
   },
   "outputs": [
    {
     "name": "stdout",
     "output_type": "stream",
     "text": [
      "acc train: 0.3951890034364261\n",
      "acc test: 0.33544303797468356\n"
     ]
    }
   ],
   "source": [
    "print('acc train:', null_acc(y_train))\n",
    "print('acc test:', null_acc(y_test))"
   ]
  },
  {
   "cell_type": "markdown",
   "metadata": {},
   "source": [
    "## Logistic Regression"
   ]
  },
  {
   "cell_type": "code",
   "execution_count": 49,
   "metadata": {
    "collapsed": false
   },
   "outputs": [
    {
     "data": {
      "text/plain": [
       "LogisticRegression(C=1.0, class_weight=None, dual=False, fit_intercept=True,\n",
       "          intercept_scaling=1, max_iter=100, multi_class='ovr', n_jobs=2,\n",
       "          penalty='l2', random_state=None, solver='liblinear', tol=0.0001,\n",
       "          verbose=0, warm_start=False)"
      ]
     },
     "execution_count": 49,
     "metadata": {},
     "output_type": "execute_result"
    }
   ],
   "source": [
    "logreg = sklearn.linear_model.LogisticRegression(C=1.0, max_iter=100, n_jobs=2)\n",
    "logreg.fit(data_train, y_train)"
   ]
  },
  {
   "cell_type": "code",
   "execution_count": 50,
   "metadata": {
    "collapsed": false
   },
   "outputs": [
    {
     "data": {
      "text/plain": [
       "array([[ -1.79304392e-06,  -4.79723578e-08,  -4.32581402e-05,\n",
       "         -2.57231277e-08,   3.20915853e-05,  -9.10377087e-09,\n",
       "         -3.97488752e-06,   4.90377813e-07,  -2.74421523e-05,\n",
       "         -9.15601952e-06,  -1.43132132e-07],\n",
       "       [  2.09674818e-08,  -6.56767245e-09,   2.61498365e-08,\n",
       "         -7.98480688e-12,   3.14262296e-08,   2.88495134e-12,\n",
       "         -1.72586843e-09,  -1.26839775e-10,  -3.55235553e-08,\n",
       "          6.87223964e-08,  -1.27832900e-11],\n",
       "       [ -4.43927924e-06,  -3.29084078e-08,  -2.94125582e-04,\n",
       "         -2.90236535e-07,  -1.32987539e-04,  -6.33896115e-08,\n",
       "         -1.78587235e-05,  -2.20038150e-06,  -1.34059387e-04,\n",
       "          1.17703706e-06,  -1.53871139e-06],\n",
       "       [ -3.59299628e-06,  -5.37802070e-08,  -1.10505017e-04,\n",
       "         -7.80656511e-08,  -1.36489189e-04,  -2.25017927e-08,\n",
       "         -1.79397870e-05,  -8.34410445e-07,  -8.97550091e-05,\n",
       "          4.21033462e-06,  -3.55135238e-07],\n",
       "       [  3.39997378e-06,  -2.05834312e-08,  -1.47138437e-04,\n",
       "         -1.22441276e-07,   1.04866285e-04,  -2.58303874e-08,\n",
       "         -4.33865098e-06,  -4.36676136e-07,  -3.95938750e-05,\n",
       "         -3.89373374e-05,  -5.56009303e-07],\n",
       "       [ -5.28940920e-06,  -1.09314345e-08,  -2.94174388e-04,\n",
       "         -2.71204591e-07,  -2.54727763e-04,  -6.26007060e-08,\n",
       "          4.09909848e-05,  -1.85419793e-06,   4.01009786e-04,\n",
       "         -2.27855608e-05,  -1.23372669e-06],\n",
       "       [ -1.28029320e-07,  -7.73076309e-08,  -2.25621764e-04,\n",
       "         -1.56473364e-07,  -6.20503201e-05,   6.11636447e-09,\n",
       "         -5.23269430e-06,  -6.47471097e-07,  -5.26905808e-05,\n",
       "         -4.07115995e-05,  -7.63742622e-07]])"
      ]
     },
     "execution_count": 50,
     "metadata": {},
     "output_type": "execute_result"
    }
   ],
   "source": [
    "logreg.coef_"
   ]
  },
  {
   "cell_type": "code",
   "execution_count": 51,
   "metadata": {
    "collapsed": false
   },
   "outputs": [
    {
     "name": "stdout",
     "output_type": "stream",
     "text": [
      "acc train: 0.395189003436\n",
      "acc test: 0.322784810127\n"
     ]
    }
   ],
   "source": [
    "analyze_results(logreg)"
   ]
  },
  {
   "cell_type": "markdown",
   "metadata": {},
   "source": [
    "## SVM"
   ]
  },
  {
   "cell_type": "code",
   "execution_count": 52,
   "metadata": {
    "collapsed": false
   },
   "outputs": [
    {
     "data": {
      "text/plain": [
       "SVC(C=20.0, cache_size=200, class_weight=None, coef0=0.0,\n",
       "  decision_function_shape=None, degree=3, gamma='auto', kernel='rbf',\n",
       "  max_iter=-1, probability=False, random_state=1337, shrinking=True,\n",
       "  tol=0.001, verbose=False)"
      ]
     },
     "execution_count": 52,
     "metadata": {},
     "output_type": "execute_result"
    }
   ],
   "source": [
    "svm = sklearn.svm.SVC(C=20.0, random_state=1337)\n",
    "svm.fit(data_train, y_train)"
   ]
  },
  {
   "cell_type": "code",
   "execution_count": 53,
   "metadata": {
    "collapsed": false
   },
   "outputs": [
    {
     "name": "stdout",
     "output_type": "stream",
     "text": [
      "acc train: 0.993127147766\n",
      "acc test: 0.367088607595\n"
     ]
    }
   ],
   "source": [
    "analyze_results(svm)"
   ]
  },
  {
   "cell_type": "markdown",
   "metadata": {},
   "source": [
    "## DecisionTree"
   ]
  },
  {
   "cell_type": "code",
   "execution_count": 54,
   "metadata": {
    "collapsed": false
   },
   "outputs": [],
   "source": [
    "from sklearn.tree import DecisionTreeClassifier"
   ]
  },
  {
   "cell_type": "code",
   "execution_count": 55,
   "metadata": {
    "collapsed": false
   },
   "outputs": [
    {
     "data": {
      "text/plain": [
       "DecisionTreeClassifier(class_weight=None, criterion='gini', max_depth=None,\n",
       "            max_features=None, max_leaf_nodes=None,\n",
       "            min_impurity_split=1e-07, min_samples_leaf=1,\n",
       "            min_samples_split=2, min_weight_fraction_leaf=0.0,\n",
       "            presort=False, random_state=1337, splitter='best')"
      ]
     },
     "execution_count": 55,
     "metadata": {},
     "output_type": "execute_result"
    }
   ],
   "source": [
    "dtc = DecisionTreeClassifier(random_state=1337)\n",
    "dtc.fit(data_train, y_train)"
   ]
  },
  {
   "cell_type": "code",
   "execution_count": 56,
   "metadata": {
    "collapsed": false
   },
   "outputs": [
    {
     "name": "stdout",
     "output_type": "stream",
     "text": [
      "acc train: 0.993127147766\n",
      "acc test: 0.443037974684\n"
     ]
    }
   ],
   "source": [
    "analyze_results(dtc)"
   ]
  },
  {
   "cell_type": "markdown",
   "metadata": {},
   "source": [
    "## Random Forest"
   ]
  },
  {
   "cell_type": "code",
   "execution_count": 57,
   "metadata": {
    "collapsed": false
   },
   "outputs": [
    {
     "data": {
      "text/plain": [
       "RandomForestClassifier(bootstrap=True, class_weight=None, criterion='gini',\n",
       "            max_depth=None, max_features='auto', max_leaf_nodes=None,\n",
       "            min_impurity_split=1e-07, min_samples_leaf=1,\n",
       "            min_samples_split=2, min_weight_fraction_leaf=0.0,\n",
       "            n_estimators=100, n_jobs=1, oob_score=False, random_state=1337,\n",
       "            verbose=0, warm_start=False)"
      ]
     },
     "execution_count": 57,
     "metadata": {},
     "output_type": "execute_result"
    }
   ],
   "source": [
    "from sklearn.ensemble import RandomForestClassifier\n",
    "rf = sklearn.ensemble.RandomForestClassifier(n_estimators=100, random_state=1337)\n",
    "rf.fit(data_train, y_train)"
   ]
  },
  {
   "cell_type": "code",
   "execution_count": 58,
   "metadata": {
    "collapsed": false
   },
   "outputs": [
    {
     "name": "stdout",
     "output_type": "stream",
     "text": [
      "acc train: 0.993127147766\n",
      "acc test: 0.481012658228\n"
     ]
    }
   ],
   "source": [
    "analyze_results(rf)"
   ]
  },
  {
   "cell_type": "markdown",
   "metadata": {},
   "source": [
    "## NN"
   ]
  },
  {
   "cell_type": "code",
   "execution_count": 59,
   "metadata": {
    "collapsed": true
   },
   "outputs": [],
   "source": [
    "from sklearn.neural_network import MLPClassifier"
   ]
  },
  {
   "cell_type": "code",
   "execution_count": 60,
   "metadata": {
    "collapsed": false
   },
   "outputs": [
    {
     "data": {
      "text/plain": [
       "MLPClassifier(activation='relu', alpha=0.0001, batch_size='auto', beta_1=0.9,\n",
       "       beta_2=0.999, early_stopping=False, epsilon=1e-08,\n",
       "       hidden_layer_sizes=(100,), learning_rate='constant',\n",
       "       learning_rate_init=0.001, max_iter=200, momentum=0.9,\n",
       "       nesterovs_momentum=True, power_t=0.5, random_state=1337,\n",
       "       shuffle=True, solver='adam', tol=0.0001, validation_fraction=0.1,\n",
       "       verbose=False, warm_start=False)"
      ]
     },
     "execution_count": 60,
     "metadata": {},
     "output_type": "execute_result"
    }
   ],
   "source": [
    "mlp = MLPClassifier(max_iter=200, hidden_layer_sizes=(100,), random_state=1337)\n",
    "mlp.fit(data_train, y_train)"
   ]
  },
  {
   "cell_type": "code",
   "execution_count": 61,
   "metadata": {
    "collapsed": false
   },
   "outputs": [
    {
     "name": "stdout",
     "output_type": "stream",
     "text": [
      "acc train: 0.168384879725\n",
      "acc test: 0.170886075949\n"
     ]
    }
   ],
   "source": [
    "analyze_results(mlp)"
   ]
  }
 ],
 "metadata": {
  "kernelspec": {
   "display_name": "Python 3",
   "language": "python",
   "name": "python3"
  },
  "language_info": {
   "codemirror_mode": {
    "name": "ipython",
    "version": 3
   },
   "file_extension": ".py",
   "mimetype": "text/x-python",
   "name": "python",
   "nbconvert_exporter": "python",
   "pygments_lexer": "ipython3",
   "version": "3.5.2+"
  }
 },
 "nbformat": 4,
 "nbformat_minor": 0
}
