{
 "cells": [
  {
   "cell_type": "markdown",
   "metadata": {},
   "source": [
    "# Comparison of different Classification Algorithms\n",
    "\n"
   ]
  },
  {
   "cell_type": "code",
   "execution_count": 6,
   "metadata": {
    "collapsed": true
   },
   "outputs": [],
   "source": [
    "import sklearn\n",
    "import numpy as np\n",
    "import pandas as pd\n",
    "\n",
    "from main import aggregate_data, normalize_data\n",
    "from metrics.githubMetrics import GithubMetrics, metricCollection\n",
    "from importer.testDataImporter import TestDataImporter"
   ]
  },
  {
   "cell_type": "code",
   "execution_count": 13,
   "metadata": {
    "collapsed": true
   },
   "outputs": [],
   "source": [
    "importer = TestDataImporter('data/testset.csv')\n",
    "y_train = np.array(importer.trainset.classification)\n",
    "y_test = np.array(importer.testset.classification)"
   ]
  },
  {
   "cell_type": "code",
   "execution_count": 10,
   "metadata": {
    "collapsed": false
   },
   "outputs": [
    {
     "data": {
      "text/html": [
       "<div>\n",
       "<table border=\"1\" class=\"dataframe\">\n",
       "  <thead>\n",
       "    <tr style=\"text-align: right;\">\n",
       "      <th></th>\n",
       "      <th>avg_entropy</th>\n",
       "      <th>avg_folder_depth</th>\n",
       "      <th>repo_size</th>\n",
       "      <th>up_to_dateness</th>\n",
       "      <th>watcher_count</th>\n",
       "      <th>file_count</th>\n",
       "      <th>forks_count</th>\n",
       "      <th>file_folder_ratio</th>\n",
       "      <th>open_issue_count</th>\n",
       "    </tr>\n",
       "  </thead>\n",
       "  <tbody>\n",
       "    <tr>\n",
       "      <th>0</th>\n",
       "      <td>0.251590</td>\n",
       "      <td>0.253733</td>\n",
       "      <td>0.752917</td>\n",
       "      <td>0.026821</td>\n",
       "      <td>0.770764</td>\n",
       "      <td>0.405086</td>\n",
       "      <td>0.566949</td>\n",
       "      <td>0.330773</td>\n",
       "      <td>0.641663</td>\n",
       "    </tr>\n",
       "    <tr>\n",
       "      <th>1</th>\n",
       "      <td>0.270911</td>\n",
       "      <td>0.333086</td>\n",
       "      <td>0.370083</td>\n",
       "      <td>0.708447</td>\n",
       "      <td>0.753491</td>\n",
       "      <td>0.136859</td>\n",
       "      <td>0.534790</td>\n",
       "      <td>0.084179</td>\n",
       "      <td>0.151630</td>\n",
       "    </tr>\n",
       "    <tr>\n",
       "      <th>2</th>\n",
       "      <td>0.431880</td>\n",
       "      <td>0.236519</td>\n",
       "      <td>0.735055</td>\n",
       "      <td>0.597203</td>\n",
       "      <td>0.000000</td>\n",
       "      <td>0.484467</td>\n",
       "      <td>0.000000</td>\n",
       "      <td>0.275341</td>\n",
       "      <td>0.000000</td>\n",
       "    </tr>\n",
       "    <tr>\n",
       "      <th>3</th>\n",
       "      <td>0.232237</td>\n",
       "      <td>0.736634</td>\n",
       "      <td>0.373685</td>\n",
       "      <td>0.498483</td>\n",
       "      <td>0.000000</td>\n",
       "      <td>0.344582</td>\n",
       "      <td>0.000000</td>\n",
       "      <td>0.169776</td>\n",
       "      <td>0.000000</td>\n",
       "    </tr>\n",
       "    <tr>\n",
       "      <th>4</th>\n",
       "      <td>0.259969</td>\n",
       "      <td>0.534729</td>\n",
       "      <td>0.508795</td>\n",
       "      <td>0.873993</td>\n",
       "      <td>0.000000</td>\n",
       "      <td>0.349585</td>\n",
       "      <td>0.000000</td>\n",
       "      <td>0.210574</td>\n",
       "      <td>0.000000</td>\n",
       "    </tr>\n",
       "  </tbody>\n",
       "</table>\n",
       "</div>"
      ],
      "text/plain": [
       "   avg_entropy  avg_folder_depth  repo_size  up_to_dateness  watcher_count  \\\n",
       "0     0.251590          0.253733   0.752917        0.026821       0.770764   \n",
       "1     0.270911          0.333086   0.370083        0.708447       0.753491   \n",
       "2     0.431880          0.236519   0.735055        0.597203       0.000000   \n",
       "3     0.232237          0.736634   0.373685        0.498483       0.000000   \n",
       "4     0.259969          0.534729   0.508795        0.873993       0.000000   \n",
       "\n",
       "   file_count  forks_count  file_folder_ratio  open_issue_count  \n",
       "0    0.405086     0.566949           0.330773          0.641663  \n",
       "1    0.136859     0.534790           0.084179          0.151630  \n",
       "2    0.484467     0.000000           0.275341          0.000000  \n",
       "3    0.344582     0.000000           0.169776          0.000000  \n",
       "4    0.349585     0.000000           0.210574          0.000000  "
      ]
     },
     "execution_count": 10,
     "metadata": {},
     "output_type": "execute_result"
    }
   ],
   "source": [
    "data_train = aggregate_data(importer.trainset.repos)\n",
    "data_train = normalize_data(data_train)\n",
    "data_train[:5]"
   ]
  },
  {
   "cell_type": "code",
   "execution_count": 12,
   "metadata": {
    "collapsed": false
   },
   "outputs": [
    {
     "data": {
      "text/html": [
       "<div>\n",
       "<table border=\"1\" class=\"dataframe\">\n",
       "  <thead>\n",
       "    <tr style=\"text-align: right;\">\n",
       "      <th></th>\n",
       "      <th>avg_entropy</th>\n",
       "      <th>avg_folder_depth</th>\n",
       "      <th>repo_size</th>\n",
       "      <th>up_to_dateness</th>\n",
       "      <th>watcher_count</th>\n",
       "      <th>file_count</th>\n",
       "      <th>forks_count</th>\n",
       "      <th>file_folder_ratio</th>\n",
       "      <th>open_issue_count</th>\n",
       "    </tr>\n",
       "  </thead>\n",
       "  <tbody>\n",
       "    <tr>\n",
       "      <th>0</th>\n",
       "      <td>0.564294</td>\n",
       "      <td>0.310194</td>\n",
       "      <td>0.747260</td>\n",
       "      <td>0.539362</td>\n",
       "      <td>0.421838</td>\n",
       "      <td>0.252792</td>\n",
       "      <td>0.730426</td>\n",
       "      <td>0.191077</td>\n",
       "      <td>0.150190</td>\n",
       "    </tr>\n",
       "    <tr>\n",
       "      <th>1</th>\n",
       "      <td>0.741162</td>\n",
       "      <td>0.339471</td>\n",
       "      <td>0.723308</td>\n",
       "      <td>0.877016</td>\n",
       "      <td>0.000000</td>\n",
       "      <td>0.197237</td>\n",
       "      <td>0.000000</td>\n",
       "      <td>0.020757</td>\n",
       "      <td>0.000000</td>\n",
       "    </tr>\n",
       "    <tr>\n",
       "      <th>2</th>\n",
       "      <td>0.769716</td>\n",
       "      <td>0.359101</td>\n",
       "      <td>0.408197</td>\n",
       "      <td>0.971735</td>\n",
       "      <td>0.073646</td>\n",
       "      <td>0.167862</td>\n",
       "      <td>0.000000</td>\n",
       "      <td>0.014088</td>\n",
       "      <td>0.000000</td>\n",
       "    </tr>\n",
       "    <tr>\n",
       "      <th>3</th>\n",
       "      <td>0.527382</td>\n",
       "      <td>0.282112</td>\n",
       "      <td>0.763555</td>\n",
       "      <td>0.766765</td>\n",
       "      <td>0.073646</td>\n",
       "      <td>0.123329</td>\n",
       "      <td>0.485355</td>\n",
       "      <td>0.048594</td>\n",
       "      <td>0.834246</td>\n",
       "    </tr>\n",
       "    <tr>\n",
       "      <th>4</th>\n",
       "      <td>0.516772</td>\n",
       "      <td>0.804519</td>\n",
       "      <td>0.724402</td>\n",
       "      <td>0.201886</td>\n",
       "      <td>0.441875</td>\n",
       "      <td>0.538326</td>\n",
       "      <td>0.427203</td>\n",
       "      <td>0.162831</td>\n",
       "      <td>0.555771</td>\n",
       "    </tr>\n",
       "  </tbody>\n",
       "</table>\n",
       "</div>"
      ],
      "text/plain": [
       "   avg_entropy  avg_folder_depth  repo_size  up_to_dateness  watcher_count  \\\n",
       "0     0.564294          0.310194   0.747260        0.539362       0.421838   \n",
       "1     0.741162          0.339471   0.723308        0.877016       0.000000   \n",
       "2     0.769716          0.359101   0.408197        0.971735       0.073646   \n",
       "3     0.527382          0.282112   0.763555        0.766765       0.073646   \n",
       "4     0.516772          0.804519   0.724402        0.201886       0.441875   \n",
       "\n",
       "   file_count  forks_count  file_folder_ratio  open_issue_count  \n",
       "0    0.252792     0.730426           0.191077          0.150190  \n",
       "1    0.197237     0.000000           0.020757          0.000000  \n",
       "2    0.167862     0.000000           0.014088          0.000000  \n",
       "3    0.123329     0.485355           0.048594          0.834246  \n",
       "4    0.538326     0.427203           0.162831          0.555771  "
      ]
     },
     "execution_count": 12,
     "metadata": {},
     "output_type": "execute_result"
    }
   ],
   "source": [
    "data_test = aggregate_data(importer.testset.repos)\n",
    "data_test = normalize_data(data_test)\n",
    "data_test[:5]"
   ]
  },
  {
   "cell_type": "markdown",
   "metadata": {},
   "source": [
    "## Logistic Regression"
   ]
  },
  {
   "cell_type": "code",
   "execution_count": 14,
   "metadata": {
    "collapsed": false
   },
   "outputs": [
    {
     "data": {
      "text/plain": [
       "LogisticRegression(C=1.0, class_weight=None, dual=False, fit_intercept=True,\n",
       "          intercept_scaling=1, max_iter=100, multi_class='ovr', n_jobs=2,\n",
       "          penalty='l2', random_state=None, solver='liblinear', tol=0.0001,\n",
       "          verbose=0, warm_start=False)"
      ]
     },
     "execution_count": 14,
     "metadata": {},
     "output_type": "execute_result"
    }
   ],
   "source": [
    "logreg = sklearn.linear_model.LogisticRegression(C=1.0, max_iter=100, n_jobs=2)\n",
    "logreg.fit(data_train, y_train)"
   ]
  },
  {
   "cell_type": "code",
   "execution_count": 15,
   "metadata": {
    "collapsed": false
   },
   "outputs": [
    {
     "data": {
      "text/plain": [
       "array([[ 0.22457466, -1.19206779, -0.26185993, -0.64466193,  1.40746356,\n",
       "        -0.90217353,  0.43948792,  0.5656693 , -0.82029758],\n",
       "       [-1.02194912,  0.37297587,  1.21066623, -1.3657322 , -0.88031193,\n",
       "         1.39492158, -1.34278266,  0.89368225,  0.96252042],\n",
       "       [ 1.30662512, -1.55369588,  0.37402214, -0.27016482,  0.04955791,\n",
       "        -0.33191972, -0.58647011, -0.52736235,  0.15644162],\n",
       "       [-0.23836844, -0.24501599, -0.24225152, -0.19036835,  1.08265998,\n",
       "        -0.61391072,  1.73642814, -0.52485589, -0.70562363],\n",
       "       [-0.65939469, -0.32206543, -0.36361769,  0.18770769, -1.04133017,\n",
       "         0.67372841,  0.2266435 , -0.24770463, -0.39197227],\n",
       "       [-0.44397304,  0.55295501, -3.15828118,  0.53443706, -0.73306548,\n",
       "        -1.95426283, -0.75385378, -1.31927554,  0.00546681],\n",
       "       [ 0.21905238, -0.84946616,  0.0931602 , -1.59805084, -0.99551816,\n",
       "        -0.32892676, -0.70549327, -0.19199932, -0.48216327]])"
      ]
     },
     "execution_count": 15,
     "metadata": {},
     "output_type": "execute_result"
    }
   ],
   "source": [
    "logreg.coef_"
   ]
  },
  {
   "cell_type": "code",
   "execution_count": 22,
   "metadata": {
    "collapsed": false
   },
   "outputs": [
    {
     "name": "stdout",
     "output_type": "stream",
     "text": [
      "acc train: 0.477663230241\n",
      "acc test: 0.462025316456\n"
     ]
    }
   ],
   "source": [
    "print('acc train:', logreg.score(data_train, y_train))\n",
    "print('acc test:', logreg.score(data_test, y_test))"
   ]
  },
  {
   "cell_type": "code",
   "execution_count": 23,
   "metadata": {
    "collapsed": false
   },
   "outputs": [
    {
     "data": {
      "text/plain": [
       "'l2'"
      ]
     },
     "execution_count": 23,
     "metadata": {},
     "output_type": "execute_result"
    }
   ],
   "source": []
  }
 ],
 "metadata": {
  "kernelspec": {
   "display_name": "Python 3",
   "language": "python",
   "name": "python3"
  },
  "language_info": {
   "codemirror_mode": {
    "name": "ipython",
    "version": 3
   },
   "file_extension": ".py",
   "mimetype": "text/x-python",
   "name": "python",
   "nbconvert_exporter": "python",
   "pygments_lexer": "ipython3",
   "version": "3.5.2"
  }
 },
 "nbformat": 4,
 "nbformat_minor": 0
}
