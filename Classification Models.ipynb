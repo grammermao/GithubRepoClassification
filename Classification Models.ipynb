{
 "cells": [
  {
   "cell_type": "markdown",
   "metadata": {},
   "source": [
    "# Comparison of different Classification Algorithms\n",
    "\n"
   ]
  },
  {
   "cell_type": "code",
   "execution_count": 41,
   "metadata": {
    "collapsed": true
   },
   "outputs": [],
   "source": [
    "import sklearn\n",
    "import numpy as np\n",
    "import pandas as pd\n",
    "import matplotlib.pyplot as plt\n",
    "%matplotlib inline\n",
    "\n",
    "from main import aggregate_data, normalize_data\n",
    "from metrics.githubMetrics import GithubMetrics, metricCollection\n",
    "from importer.testDataImporter import TestDataImporter"
   ]
  },
  {
   "cell_type": "code",
   "execution_count": 3,
   "metadata": {
    "collapsed": true
   },
   "outputs": [],
   "source": [
    "from sklearn.metrics import confusion_matrix"
   ]
  },
  {
   "cell_type": "code",
   "execution_count": 4,
   "metadata": {
    "collapsed": true
   },
   "outputs": [],
   "source": [
    "importer = TestDataImporter('data/testset.csv')\n",
    "y_train = np.array(importer.trainset.classification)\n",
    "y_test = np.array(importer.testset.classification)"
   ]
  },
  {
   "cell_type": "code",
   "execution_count": 5,
   "metadata": {
    "collapsed": false
   },
   "outputs": [
    {
     "data": {
      "text/plain": [
       "array(['open_issue_count', 'forks_count', 'avg_entropy',\n",
       "       'file_folder_ratio', 'avg_folder_depth', 'file_count',\n",
       "       'up_to_dateness', 'watcher_count', 'html_count', 'is_io_page',\n",
       "       'repo_size'], \n",
       "      dtype='<U17')"
      ]
     },
     "execution_count": 5,
     "metadata": {},
     "output_type": "execute_result"
    }
   ],
   "source": [
    "metrics = np.array(list(metricCollection.keys()))\n",
    "metrics"
   ]
  },
  {
   "cell_type": "code",
   "execution_count": 6,
   "metadata": {
    "collapsed": false
   },
   "outputs": [
    {
     "data": {
      "text/html": [
       "<div>\n",
       "<table border=\"1\" class=\"dataframe\">\n",
       "  <thead>\n",
       "    <tr style=\"text-align: right;\">\n",
       "      <th></th>\n",
       "      <th>avg_entropy</th>\n",
       "      <th>forks_count</th>\n",
       "      <th>file_folder_ratio</th>\n",
       "      <th>avg_folder_depth</th>\n",
       "      <th>file_count</th>\n",
       "      <th>up_to_dateness</th>\n",
       "      <th>watcher_count</th>\n",
       "      <th>html_count</th>\n",
       "      <th>is_io_page</th>\n",
       "      <th>repo_size</th>\n",
       "    </tr>\n",
       "  </thead>\n",
       "  <tbody>\n",
       "    <tr>\n",
       "      <th>0</th>\n",
       "      <td>0.251590</td>\n",
       "      <td>0.566949</td>\n",
       "      <td>0.330773</td>\n",
       "      <td>0.253733</td>\n",
       "      <td>0.405086</td>\n",
       "      <td>0.026821</td>\n",
       "      <td>0.770764</td>\n",
       "      <td>0.0</td>\n",
       "      <td>0.0</td>\n",
       "      <td>0.752917</td>\n",
       "    </tr>\n",
       "    <tr>\n",
       "      <th>1</th>\n",
       "      <td>0.270911</td>\n",
       "      <td>0.534790</td>\n",
       "      <td>0.084179</td>\n",
       "      <td>0.333086</td>\n",
       "      <td>0.136859</td>\n",
       "      <td>0.708447</td>\n",
       "      <td>0.753491</td>\n",
       "      <td>0.0</td>\n",
       "      <td>0.0</td>\n",
       "      <td>0.370083</td>\n",
       "    </tr>\n",
       "    <tr>\n",
       "      <th>2</th>\n",
       "      <td>0.431880</td>\n",
       "      <td>0.000000</td>\n",
       "      <td>0.275341</td>\n",
       "      <td>0.236519</td>\n",
       "      <td>0.484467</td>\n",
       "      <td>0.597203</td>\n",
       "      <td>0.000000</td>\n",
       "      <td>0.0</td>\n",
       "      <td>0.0</td>\n",
       "      <td>0.735055</td>\n",
       "    </tr>\n",
       "    <tr>\n",
       "      <th>3</th>\n",
       "      <td>0.232237</td>\n",
       "      <td>0.000000</td>\n",
       "      <td>0.169776</td>\n",
       "      <td>0.736634</td>\n",
       "      <td>0.344582</td>\n",
       "      <td>0.498483</td>\n",
       "      <td>0.000000</td>\n",
       "      <td>0.0</td>\n",
       "      <td>0.0</td>\n",
       "      <td>0.373685</td>\n",
       "    </tr>\n",
       "    <tr>\n",
       "      <th>4</th>\n",
       "      <td>0.259969</td>\n",
       "      <td>0.000000</td>\n",
       "      <td>0.210574</td>\n",
       "      <td>0.534729</td>\n",
       "      <td>0.349585</td>\n",
       "      <td>0.873993</td>\n",
       "      <td>0.000000</td>\n",
       "      <td>0.0</td>\n",
       "      <td>0.0</td>\n",
       "      <td>0.508795</td>\n",
       "    </tr>\n",
       "  </tbody>\n",
       "</table>\n",
       "</div>"
      ],
      "text/plain": [
       "   avg_entropy  forks_count  file_folder_ratio  avg_folder_depth  file_count  \\\n",
       "0     0.251590     0.566949           0.330773          0.253733    0.405086   \n",
       "1     0.270911     0.534790           0.084179          0.333086    0.136859   \n",
       "2     0.431880     0.000000           0.275341          0.236519    0.484467   \n",
       "3     0.232237     0.000000           0.169776          0.736634    0.344582   \n",
       "4     0.259969     0.000000           0.210574          0.534729    0.349585   \n",
       "\n",
       "   up_to_dateness  watcher_count  html_count  is_io_page  repo_size  \n",
       "0        0.026821       0.770764         0.0         0.0   0.752917  \n",
       "1        0.708447       0.753491         0.0         0.0   0.370083  \n",
       "2        0.597203       0.000000         0.0         0.0   0.735055  \n",
       "3        0.498483       0.000000         0.0         0.0   0.373685  \n",
       "4        0.873993       0.000000         0.0         0.0   0.508795  "
      ]
     },
     "execution_count": 6,
     "metadata": {},
     "output_type": "execute_result"
    }
   ],
   "source": [
    "data_train = aggregate_data(importer.trainset.repos)\n",
    "data_train = data_train[metrics]\n",
    "data_train = normalize_data(data_train)\n",
    "data_train[:5]"
   ]
  },
  {
   "cell_type": "code",
   "execution_count": 7,
   "metadata": {
    "collapsed": false,
    "scrolled": false
   },
   "outputs": [
    {
     "data": {
      "text/html": [
       "<div>\n",
       "<table border=\"1\" class=\"dataframe\">\n",
       "  <thead>\n",
       "    <tr style=\"text-align: right;\">\n",
       "      <th></th>\n",
       "      <th>avg_entropy</th>\n",
       "      <th>forks_count</th>\n",
       "      <th>file_folder_ratio</th>\n",
       "      <th>avg_folder_depth</th>\n",
       "      <th>file_count</th>\n",
       "      <th>up_to_dateness</th>\n",
       "      <th>watcher_count</th>\n",
       "      <th>html_count</th>\n",
       "      <th>is_io_page</th>\n",
       "      <th>repo_size</th>\n",
       "    </tr>\n",
       "  </thead>\n",
       "  <tbody>\n",
       "    <tr>\n",
       "      <th>0</th>\n",
       "      <td>0.564294</td>\n",
       "      <td>0.730426</td>\n",
       "      <td>0.191077</td>\n",
       "      <td>0.310194</td>\n",
       "      <td>0.252792</td>\n",
       "      <td>0.539362</td>\n",
       "      <td>0.421838</td>\n",
       "      <td>0.080901</td>\n",
       "      <td>0.0</td>\n",
       "      <td>0.747260</td>\n",
       "    </tr>\n",
       "    <tr>\n",
       "      <th>1</th>\n",
       "      <td>0.741162</td>\n",
       "      <td>0.000000</td>\n",
       "      <td>0.020757</td>\n",
       "      <td>0.339471</td>\n",
       "      <td>0.197237</td>\n",
       "      <td>0.877016</td>\n",
       "      <td>0.000000</td>\n",
       "      <td>0.000000</td>\n",
       "      <td>0.0</td>\n",
       "      <td>0.723308</td>\n",
       "    </tr>\n",
       "    <tr>\n",
       "      <th>2</th>\n",
       "      <td>0.769716</td>\n",
       "      <td>0.000000</td>\n",
       "      <td>0.014088</td>\n",
       "      <td>0.359101</td>\n",
       "      <td>0.167862</td>\n",
       "      <td>0.971735</td>\n",
       "      <td>0.073646</td>\n",
       "      <td>0.000000</td>\n",
       "      <td>0.0</td>\n",
       "      <td>0.408197</td>\n",
       "    </tr>\n",
       "    <tr>\n",
       "      <th>3</th>\n",
       "      <td>0.527382</td>\n",
       "      <td>0.485355</td>\n",
       "      <td>0.048594</td>\n",
       "      <td>0.282112</td>\n",
       "      <td>0.123329</td>\n",
       "      <td>0.766765</td>\n",
       "      <td>0.073646</td>\n",
       "      <td>0.000000</td>\n",
       "      <td>0.0</td>\n",
       "      <td>0.763555</td>\n",
       "    </tr>\n",
       "    <tr>\n",
       "      <th>4</th>\n",
       "      <td>0.516772</td>\n",
       "      <td>0.427203</td>\n",
       "      <td>0.162831</td>\n",
       "      <td>0.804519</td>\n",
       "      <td>0.538326</td>\n",
       "      <td>0.201886</td>\n",
       "      <td>0.441875</td>\n",
       "      <td>0.209125</td>\n",
       "      <td>0.0</td>\n",
       "      <td>0.724402</td>\n",
       "    </tr>\n",
       "  </tbody>\n",
       "</table>\n",
       "</div>"
      ],
      "text/plain": [
       "   avg_entropy  forks_count  file_folder_ratio  avg_folder_depth  file_count  \\\n",
       "0     0.564294     0.730426           0.191077          0.310194    0.252792   \n",
       "1     0.741162     0.000000           0.020757          0.339471    0.197237   \n",
       "2     0.769716     0.000000           0.014088          0.359101    0.167862   \n",
       "3     0.527382     0.485355           0.048594          0.282112    0.123329   \n",
       "4     0.516772     0.427203           0.162831          0.804519    0.538326   \n",
       "\n",
       "   up_to_dateness  watcher_count  html_count  is_io_page  repo_size  \n",
       "0        0.539362       0.421838    0.080901         0.0   0.747260  \n",
       "1        0.877016       0.000000    0.000000         0.0   0.723308  \n",
       "2        0.971735       0.073646    0.000000         0.0   0.408197  \n",
       "3        0.766765       0.073646    0.000000         0.0   0.763555  \n",
       "4        0.201886       0.441875    0.209125         0.0   0.724402  "
      ]
     },
     "execution_count": 7,
     "metadata": {},
     "output_type": "execute_result"
    }
   ],
   "source": [
    "data_test = aggregate_data(importer.testset.repos)\n",
    "data_test = data_test[metrics]\n",
    "data_test = normalize_data(data_test)\n",
    "data_test[:5]"
   ]
  },
  {
   "cell_type": "markdown",
   "metadata": {},
   "source": [
    "## Helper"
   ]
  },
  {
   "cell_type": "code",
   "execution_count": 39,
   "metadata": {
    "collapsed": false
   },
   "outputs": [],
   "source": [
    "import itertools\n",
    "\n",
    "def plot_confusion_matrix(cm, classes,\n",
    "                          normalize=False,\n",
    "                          title='Confusion matrix',\n",
    "                          cmap=plt.cm.Blues):\n",
    "    \"\"\"\n",
    "    This function prints and plots the confusion matrix.\n",
    "    Normalization can be applied by setting `normalize=True`.\n",
    "    \"\"\"\n",
    "    plt.imshow(cm, interpolation='nearest', cmap=cmap)\n",
    "    plt.title(title)\n",
    "    plt.colorbar()\n",
    "    tick_marks = np.arange(len(classes))\n",
    "    plt.xticks(tick_marks, classes, rotation=45)\n",
    "    plt.yticks(tick_marks, classes)\n",
    "\n",
    "    if normalize:\n",
    "        cm = cm.astype('float') / cm.sum(axis=1)[:, np.newaxis]\n",
    "        print(\"Normalized confusion matrix\")\n",
    "    else:\n",
    "        print('Confusion matrix, without normalization')\n",
    "\n",
    "    print(cm)\n",
    "\n",
    "    thresh = cm.max() / 2.\n",
    "    for i, j in itertools.product(range(cm.shape[0]), range(cm.shape[1])):\n",
    "        plt.text(j, i, cm[i, j],\n",
    "                 horizontalalignment=\"center\",\n",
    "                 color=\"white\" if cm[i, j] > thresh else \"black\")\n",
    "\n",
    "    plt.tight_layout()\n",
    "    plt.ylabel('True label')\n",
    "    plt.xlabel('Predicted label')"
   ]
  },
  {
   "cell_type": "code",
   "execution_count": 37,
   "metadata": {
    "collapsed": true
   },
   "outputs": [],
   "source": [
    "def analyze_results(model):\n",
    "    print('acc train:', model.score(data_train, y_train))\n",
    "    print('acc test:', model.score(data_test, y_test))\n",
    "    plot_confusion_matrix(confusion_matrix(y_test, model.predict(data_test)), np.unique(y_test))"
   ]
  },
  {
   "cell_type": "code",
   "execution_count": 9,
   "metadata": {
    "collapsed": true
   },
   "outputs": [],
   "source": [
    "def null_acc(y):\n",
    "    return max([len(y[y == x]) for x in np.unique(y)]) / len(y)"
   ]
  },
  {
   "cell_type": "code",
   "execution_count": 10,
   "metadata": {
    "collapsed": false
   },
   "outputs": [
    {
     "name": "stdout",
     "output_type": "stream",
     "text": [
      "acc train: 0.3951890034364261\n",
      "acc test: 0.33544303797468356\n"
     ]
    }
   ],
   "source": [
    "print('acc train:', null_acc(y_train))\n",
    "print('acc test:', null_acc(y_test))"
   ]
  },
  {
   "cell_type": "markdown",
   "metadata": {},
   "source": [
    "## Logistic Regression"
   ]
  },
  {
   "cell_type": "code",
   "execution_count": 11,
   "metadata": {
    "collapsed": false
   },
   "outputs": [
    {
     "data": {
      "text/plain": [
       "LogisticRegression(C=1.0, class_weight=None, dual=False, fit_intercept=True,\n",
       "          intercept_scaling=1, max_iter=100, multi_class='ovr', n_jobs=2,\n",
       "          penalty='l2', random_state=None, solver='liblinear', tol=0.0001,\n",
       "          verbose=0, warm_start=False)"
      ]
     },
     "execution_count": 11,
     "metadata": {},
     "output_type": "execute_result"
    }
   ],
   "source": [
    "logreg = sklearn.linear_model.LogisticRegression(C=1.0, max_iter=100, n_jobs=2)\n",
    "logreg.fit(data_train, y_train)"
   ]
  },
  {
   "cell_type": "code",
   "execution_count": 12,
   "metadata": {
    "collapsed": false
   },
   "outputs": [
    {
     "data": {
      "text/plain": [
       "array([[ 0.2376231 ,  0.2717774 ,  0.56526892, -1.15861217, -0.80923021,\n",
       "        -0.6628816 ,  1.13147014, -1.45939419, -0.75776623, -0.13407856],\n",
       "       [-1.05479929, -1.09972853,  0.92172595,  0.39675739,  1.30518957,\n",
       "        -1.29546015, -0.50093844,  0.84956849,  0.6774201 ,  1.03141356],\n",
       "       [ 1.29605958, -0.5579921 , -0.50276971, -1.52497352, -0.24574681,\n",
       "        -0.35361089,  0.02326366, -0.93535402, -0.33042945,  0.50940122],\n",
       "       [-0.20517428,  1.55855648, -0.53975886, -0.33243357, -0.69393451,\n",
       "        -0.11326384,  0.91298338,  0.35101211, -0.71698987, -0.29943548],\n",
       "       [-0.60515106,  0.12749002, -0.26862799, -0.40436873,  0.55443809,\n",
       "         0.16937422, -1.11428074,  0.5234482 , -0.85555792, -0.3829781 ],\n",
       "       [-0.42355677, -0.75394167, -1.28808458,  0.52000743, -1.89517966,\n",
       "         0.46038923, -0.76611358, -0.80642573, -0.81979322, -3.02804328],\n",
       "       [ 0.12355544, -0.71678507, -0.20978899, -0.81170517, -0.34154826,\n",
       "        -1.41466573, -0.98147584,  0.2996605 ,  1.40552828, -0.1456544 ]])"
      ]
     },
     "execution_count": 12,
     "metadata": {},
     "output_type": "execute_result"
    }
   ],
   "source": [
    "logreg.coef_"
   ]
  },
  {
   "cell_type": "code",
   "execution_count": 42,
   "metadata": {
    "collapsed": false
   },
   "outputs": [
    {
     "name": "stdout",
     "output_type": "stream",
     "text": [
      "acc train: 0.494845360825\n",
      "acc test: 0.436708860759\n",
      "Confusion matrix, without normalization\n",
      "[[ 1 14  0  1  0  2  0]\n",
      " [ 0 52  0  0  0  1  0]\n",
      " [ 0 12  0  2  0  0  0]\n",
      " [ 0 15  1  2  0  3  0]\n",
      " [ 0 19  0  0  0  5  0]\n",
      " [ 0  6  0  1  0 14  0]\n",
      " [ 0  5  0  1  0  1  0]]\n"
     ]
    },
    {
     "data": {
      "image/png": "[encoded data removed]",
      "text/plain": [
       "<matplotlib.figure.Figure at 0x10beea9b0>"
      ]
     },
     "metadata": {},
     "output_type": "display_data"
    }
   ],
   "source": [
    "analyze_results(logreg)"
   ]
  },
  {
   "cell_type": "markdown",
   "metadata": {},
   "source": [
    "## SVM"
   ]
  },
  {
   "cell_type": "code",
   "execution_count": 14,
   "metadata": {
    "collapsed": false
   },
   "outputs": [
    {
     "data": {
      "text/plain": [
       "SVC(C=20.0, cache_size=200, class_weight=None, coef0=0.0,\n",
       "  decision_function_shape=None, degree=3, gamma='auto', kernel='rbf',\n",
       "  max_iter=-1, probability=False, random_state=1337, shrinking=True,\n",
       "  tol=0.001, verbose=False)"
      ]
     },
     "execution_count": 14,
     "metadata": {},
     "output_type": "execute_result"
    }
   ],
   "source": [
    "svm = sklearn.svm.SVC(C=20.0, random_state=1337)\n",
    "svm.fit(data_train, y_train)"
   ]
  },
  {
   "cell_type": "code",
   "execution_count": 15,
   "metadata": {
    "collapsed": false
   },
   "outputs": [
    {
     "name": "stdout",
     "output_type": "stream",
     "text": [
      "acc train: 0.536082474227\n",
      "acc test: 0.474683544304\n"
     ]
    }
   ],
   "source": [
    "analyze_results(svm)"
   ]
  },
  {
   "cell_type": "markdown",
   "metadata": {},
   "source": [
    "## DecisionTree"
   ]
  },
  {
   "cell_type": "code",
   "execution_count": 16,
   "metadata": {
    "collapsed": false
   },
   "outputs": [],
   "source": [
    "from sklearn.tree import DecisionTreeClassifier"
   ]
  },
  {
   "cell_type": "code",
   "execution_count": 17,
   "metadata": {
    "collapsed": false
   },
   "outputs": [
    {
     "data": {
      "text/plain": [
       "DecisionTreeClassifier(class_weight=None, criterion='gini', max_depth=None,\n",
       "            max_features=None, max_leaf_nodes=None,\n",
       "            min_impurity_split=1e-07, min_samples_leaf=1,\n",
       "            min_samples_split=2, min_weight_fraction_leaf=0.0,\n",
       "            presort=False, random_state=1337, splitter='best')"
      ]
     },
     "execution_count": 17,
     "metadata": {},
     "output_type": "execute_result"
    }
   ],
   "source": [
    "dtc = DecisionTreeClassifier(random_state=1337)\n",
    "dtc.fit(data_train, y_train)"
   ]
  },
  {
   "cell_type": "code",
   "execution_count": 18,
   "metadata": {
    "collapsed": false
   },
   "outputs": [
    {
     "name": "stdout",
     "output_type": "stream",
     "text": [
      "acc train: 0.993127147766\n",
      "acc test: 0.341772151899\n"
     ]
    }
   ],
   "source": [
    "analyze_results(dtc)"
   ]
  },
  {
   "cell_type": "markdown",
   "metadata": {},
   "source": [
    "## Random Forest"
   ]
  },
  {
   "cell_type": "code",
   "execution_count": 19,
   "metadata": {
    "collapsed": false
   },
   "outputs": [
    {
     "data": {
      "text/plain": [
       "RandomForestClassifier(bootstrap=True, class_weight=None, criterion='gini',\n",
       "            max_depth=None, max_features='auto', max_leaf_nodes=None,\n",
       "            min_impurity_split=1e-07, min_samples_leaf=1,\n",
       "            min_samples_split=2, min_weight_fraction_leaf=0.0,\n",
       "            n_estimators=100, n_jobs=1, oob_score=False, random_state=1337,\n",
       "            verbose=0, warm_start=False)"
      ]
     },
     "execution_count": 19,
     "metadata": {},
     "output_type": "execute_result"
    }
   ],
   "source": [
    "from sklearn.ensemble import RandomForestClassifier\n",
    "rf = sklearn.ensemble.RandomForestClassifier(n_estimators=100, random_state=1337)\n",
    "rf.fit(data_train, y_train)"
   ]
  },
  {
   "cell_type": "code",
   "execution_count": 20,
   "metadata": {
    "collapsed": false
   },
   "outputs": [
    {
     "name": "stdout",
     "output_type": "stream",
     "text": [
      "acc train: 0.993127147766\n",
      "acc test: 0.443037974684\n"
     ]
    }
   ],
   "source": [
    "analyze_results(rf)"
   ]
  },
  {
   "cell_type": "markdown",
   "metadata": {},
   "source": [
    "## NN"
   ]
  },
  {
   "cell_type": "code",
   "execution_count": 21,
   "metadata": {
    "collapsed": true
   },
   "outputs": [],
   "source": [
    "from sklearn.neural_network import MLPClassifier"
   ]
  },
  {
   "cell_type": "code",
   "execution_count": 22,
   "metadata": {
    "collapsed": false
   },
   "outputs": [
    {
     "name": "stderr",
     "output_type": "stream",
     "text": [
      "/Users/mbornstein/anaconda/lib/python3.5/site-packages/sklearn/neural_network/multilayer_perceptron.py:563: ConvergenceWarning: Stochastic Optimizer: Maximum iterations reached and the optimization hasn't converged yet.\n",
      "  % (), ConvergenceWarning)\n"
     ]
    },
    {
     "data": {
      "text/plain": [
       "MLPClassifier(activation='relu', alpha=0.0001, batch_size='auto', beta_1=0.9,\n",
       "       beta_2=0.999, early_stopping=False, epsilon=1e-08,\n",
       "       hidden_layer_sizes=(100,), learning_rate='constant',\n",
       "       learning_rate_init=0.001, max_iter=200, momentum=0.9,\n",
       "       nesterovs_momentum=True, power_t=0.5, random_state=1337,\n",
       "       shuffle=True, solver='adam', tol=0.0001, validation_fraction=0.1,\n",
       "       verbose=False, warm_start=False)"
      ]
     },
     "execution_count": 22,
     "metadata": {},
     "output_type": "execute_result"
    }
   ],
   "source": [
    "mlp = MLPClassifier(max_iter=200, hidden_layer_sizes=(100,), random_state=1337)\n",
    "mlp.fit(data_train, y_train)"
   ]
  },
  {
   "cell_type": "code",
   "execution_count": 23,
   "metadata": {
    "collapsed": false
   },
   "outputs": [
    {
     "name": "stdout",
     "output_type": "stream",
     "text": [
      "acc train: 0.539518900344\n",
      "acc test: 0.487341772152\n"
     ]
    }
   ],
   "source": [
    "analyze_results(mlp)"
   ]
  },
  {
   "cell_type": "markdown",
   "metadata": {},
   "source": [
    "## Two Step Stuff"
   ]
  },
  {
   "cell_type": "code",
   "execution_count": 25,
   "metadata": {
    "collapsed": false
   },
   "outputs": [],
   "source": [
    "from TwoStepClassifier import TwoStepClassifier"
   ]
  },
  {
   "cell_type": "code",
   "execution_count": 26,
   "metadata": {
    "collapsed": false
   },
   "outputs": [
    {
     "name": "stdout",
     "output_type": "stream",
     "text": [
      "0.158075601375\n",
      "1.0\n"
     ]
    }
   ],
   "source": [
    "tsc = TwoStepClassifier(\n",
    "    sklearn.linear_model.LogisticRegression(C=1.0, max_iter=100, n_jobs=2),\n",
    "    RandomForestClassifier(n_estimators=100, random_state=1337)\n",
    ")\n",
    "tsc.fit(data_train, y_train)"
   ]
  },
  {
   "cell_type": "code",
   "execution_count": 27,
   "metadata": {
    "collapsed": false
   },
   "outputs": [
    {
     "name": "stdout",
     "output_type": "stream",
     "text": [
      "['' '' '' '' 'DEV' '' '' '' '' 'DEV' '' '' '' 'DEV' 'DEV' '' '' '' '' 'DEV'\n",
      " 'DEV' '' 'DEV' '' '' '' '' '' '' '' '' 'DEV' '' '' '' 'DEV' '' '' '' '' ''\n",
      " '' '' '' '' '' '' '' '' '' '' '' '' '' '' '' '' '' '' '' '' '' 'DEV' '' ''\n",
      " '' '' '' '' '' '' '' '' '' 'DEV' '' '' '' '' '' '' '' '' '' '' '' '' '' ''\n",
      " '' '' '' '' 'DEV' '' 'DEV' '' '' '' '' '' '' 'DEV' '' '' '' '' 'DEV' '' ''\n",
      " '' '' '' 'DEV' '' '' '' 'DEV' 'DEV' '' 'DEV' '' '' '' 'DEV' '' '' 'DEV' ''\n",
      " '' '' '' '' 'DEV' '' '' '' 'DEV' '' '' '' 'DEV' 'DEV' '' '' '' '' 'DEV' ''\n",
      " '' '' '' '' '' '' 'DEV' '' 'DEV']\n",
      "['EDU' 'DOCS' 'DATA' 'DATA' 'EDU' 'OTHER' 'DOCS' 'HW' 'DOCS' 'WEB' 'OTHER'\n",
      " 'DOCS' 'DOCS' 'EDU' 'DOCS' 'DOCS' 'HW' 'EDU' 'OTHER' 'WEB' 'WEB' 'EDU'\n",
      " 'DOCS' 'OTHER' 'OTHER' 'DOCS' 'EDU' 'DOCS' 'OTHER' 'DOCS' 'DOCS' 'DOCS'\n",
      " 'OTHER' 'WEB' 'DATA' 'EDU' 'DOCS' 'DATA' 'OTHER' 'DOCS' 'DOCS' 'EDU'\n",
      " 'DOCS' 'OTHER' 'EDU' 'OTHER' 'DOCS' 'DOCS' 'DOCS' 'OTHER' 'OTHER' 'DOCS'\n",
      " 'HW' 'DOCS' 'DOCS' 'WEB' 'OTHER' 'EDU' 'EDU' 'EDU' 'DATA' 'DOCS' 'DOCS'\n",
      " 'WEB' 'EDU' 'EDU' 'EDU' 'OTHER' 'HW' 'OTHER' 'EDU' 'OTHER' 'DOCS' 'DATA'\n",
      " 'DOCS' 'DOCS' 'OTHER' 'OTHER' 'DOCS' 'DOCS' 'DOCS' 'EDU' 'OTHER' 'HW'\n",
      " 'EDU' 'HW' 'OTHER' 'DATA' 'EDU' 'DOCS' 'HW' 'DOCS' 'DOCS' 'DOCS' 'OTHER'\n",
      " 'WEB' 'OTHER' 'WEB' 'OTHER' 'DOCS' 'EDU' 'EDU' 'DOCS' 'DATA' 'EDU' 'EDU'\n",
      " 'DOCS' 'DOCS' 'DOCS' 'DOCS' 'DOCS' 'EDU' 'HW' 'EDU' 'EDU' 'DOCS' 'HW'\n",
      " 'DOCS' 'WEB' 'HW' 'EDU' 'HW' 'EDU' 'HW' 'EDU' 'OTHER' 'DOCS' 'EDU' 'DATA'\n",
      " 'DOCS' 'DATA' 'OTHER' 'DATA' 'EDU' 'HW' 'DOCS' 'DOCS' 'EDU' 'OTHER' 'DOCS'\n",
      " 'DOCS' 'HW' 'WEB' 'DOCS' 'OTHER' 'OTHER' 'HW' 'WEB' 'DOCS' 'OTHER' 'DOCS'\n",
      " 'OTHER' 'OTHER' 'EDU' 'OTHER' 'EDU' 'DOCS' 'EDU']\n",
      "['EDU' 'DOC' 'DAT' 'DAT' 'DEV' 'OTH' 'DOC' 'HW' 'DOC' 'DEV' 'OTH' 'DOC'\n",
      " 'DOC' 'DEV' 'DEV' 'DOC' 'HW' 'EDU' 'OTH' 'DEV' 'DEV' 'EDU' 'DEV' 'OTH'\n",
      " 'OTH' 'DOC' 'EDU' 'DOC' 'OTH' 'DOC' 'DOC' 'DEV' 'OTH' 'WEB' 'DAT' 'DEV'\n",
      " 'DOC' 'DAT' 'OTH' 'DOC' 'DOC' 'EDU' 'DOC' 'OTH' 'EDU' 'OTH' 'DOC' 'DOC'\n",
      " 'DOC' 'OTH' 'OTH' 'DOC' 'HW' 'DOC' 'DOC' 'WEB' 'OTH' 'EDU' 'EDU' 'EDU'\n",
      " 'DAT' 'DOC' 'DEV' 'WEB' 'EDU' 'EDU' 'EDU' 'OTH' 'HW' 'OTH' 'EDU' 'OTH'\n",
      " 'DOC' 'DAT' 'DEV' 'DOC' 'OTH' 'OTH' 'DOC' 'DOC' 'DOC' 'EDU' 'OTH' 'HW'\n",
      " 'EDU' 'HW' 'OTH' 'DAT' 'EDU' 'DOC' 'HW' 'DOC' 'DOC' 'DEV' 'OTH' 'DEV'\n",
      " 'OTH' 'WEB' 'OTH' 'DOC' 'EDU' 'EDU' 'DEV' 'DAT' 'EDU' 'EDU' 'DOC' 'DEV'\n",
      " 'DOC' 'DOC' 'DOC' 'EDU' 'HW' 'DEV' 'EDU' 'DOC' 'HW' 'DEV' 'DEV' 'HW' 'DEV'\n",
      " 'HW' 'EDU' 'HW' 'DEV' 'OTH' 'DOC' 'DEV' 'DAT' 'DOC' 'DAT' 'OTH' 'DAT'\n",
      " 'DEV' 'HW' 'DOC' 'DOC' 'DEV' 'OTH' 'DOC' 'DOC' 'DEV' 'DEV' 'DOC' 'OTH'\n",
      " 'OTH' 'HW' 'DEV' 'DOC' 'OTH' 'DOC' 'OTH' 'OTH' 'EDU' 'OTH' 'DEV' 'DOC'\n",
      " 'DEV']\n"
     ]
    },
    {
     "data": {
      "text/plain": [
       "0.189873417721519"
      ]
     },
     "execution_count": 27,
     "metadata": {},
     "output_type": "execute_result"
    }
   ],
   "source": [
    "tsc.score(data_test, y_test)"
   ]
  }
 ],
 "metadata": {
  "kernelspec": {
   "display_name": "Python 3",
   "language": "python",
   "name": "python3"
  },
  "language_info": {
   "codemirror_mode": {
    "name": "ipython",
    "version": 3
   },
   "file_extension": ".py",
   "mimetype": "text/x-python",
   "name": "python",
   "nbconvert_exporter": "python",
   "pygments_lexer": "ipython3",
   "version": "3.5.2"
  }
 },
 "nbformat": 4,
 "nbformat_minor": 0
}
