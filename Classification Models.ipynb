{
 "cells": [
  {
   "cell_type": "markdown",
   "metadata": {},
   "source": [
    "# Comparison of different Classification Algorithms\n",
    "\n"
   ]
  },
  {
   "cell_type": "code",
   "execution_count": 24,
   "metadata": {
    "collapsed": true
   },
   "outputs": [],
   "source": [
    "import sklearn\n",
    "import numpy as np\n",
    "import pandas as pd\n",
    "\n",
    "from main import aggregate_data, normalize_data\n",
    "from metrics.githubMetrics import GithubMetrics, metricCollection\n",
    "from importer.testDataImporter import TestDataImporter"
   ]
  },
  {
   "cell_type": "code",
   "execution_count": 25,
   "metadata": {
    "collapsed": true
   },
   "outputs": [],
   "source": [
    "importer = TestDataImporter('data/testset.csv')\n",
    "y_train = np.array(importer.trainset.classification)\n",
    "y_test = np.array(importer.testset.classification)"
   ]
  },
  {
   "cell_type": "code",
   "execution_count": 26,
   "metadata": {
    "collapsed": false
   },
   "outputs": [
    {
     "data": {
      "text/plain": [
       "array(['avg_folder_depth', 'forks_count', 'avg_entropy',\n",
       "       'file_folder_ratio', 'up_to_dateness', 'repo_size', 'watcher_count',\n",
       "       'file_count', 'open_issue_count', 'html_count', 'is_io_page'], \n",
       "      dtype='<U17')"
      ]
     },
     "execution_count": 26,
     "metadata": {},
     "output_type": "execute_result"
    }
   ],
   "source": [
    "metrics = np.array(list(metricCollection.keys()))\n",
    "metrics"
   ]
  },
  {
   "cell_type": "code",
   "execution_count": 28,
   "metadata": {
    "collapsed": false
   },
   "outputs": [
    {
     "data": {
      "text/html": [
       "<div>\n",
       "<table border=\"1\" class=\"dataframe\">\n",
       "  <thead>\n",
       "    <tr style=\"text-align: right;\">\n",
       "      <th></th>\n",
       "      <th>avg_entropy</th>\n",
       "      <th>forks_count</th>\n",
       "      <th>file_folder_ratio</th>\n",
       "      <th>up_to_dateness</th>\n",
       "      <th>repo_size</th>\n",
       "      <th>watcher_count</th>\n",
       "      <th>file_count</th>\n",
       "      <th>open_issue_count</th>\n",
       "      <th>html_count</th>\n",
       "      <th>is_io_page</th>\n",
       "    </tr>\n",
       "  </thead>\n",
       "  <tbody>\n",
       "    <tr>\n",
       "      <th>0</th>\n",
       "      <td>0.251590</td>\n",
       "      <td>0.566949</td>\n",
       "      <td>0.330773</td>\n",
       "      <td>0.026821</td>\n",
       "      <td>0.752917</td>\n",
       "      <td>0.770764</td>\n",
       "      <td>0.405086</td>\n",
       "      <td>0.641663</td>\n",
       "      <td>0.0</td>\n",
       "      <td>0.0</td>\n",
       "    </tr>\n",
       "    <tr>\n",
       "      <th>1</th>\n",
       "      <td>0.270911</td>\n",
       "      <td>0.534790</td>\n",
       "      <td>0.084179</td>\n",
       "      <td>0.708447</td>\n",
       "      <td>0.370083</td>\n",
       "      <td>0.753491</td>\n",
       "      <td>0.136859</td>\n",
       "      <td>0.151630</td>\n",
       "      <td>0.0</td>\n",
       "      <td>0.0</td>\n",
       "    </tr>\n",
       "    <tr>\n",
       "      <th>2</th>\n",
       "      <td>0.431880</td>\n",
       "      <td>0.000000</td>\n",
       "      <td>0.275341</td>\n",
       "      <td>0.597203</td>\n",
       "      <td>0.735055</td>\n",
       "      <td>0.000000</td>\n",
       "      <td>0.484467</td>\n",
       "      <td>0.000000</td>\n",
       "      <td>0.0</td>\n",
       "      <td>0.0</td>\n",
       "    </tr>\n",
       "    <tr>\n",
       "      <th>3</th>\n",
       "      <td>0.232237</td>\n",
       "      <td>0.000000</td>\n",
       "      <td>0.169776</td>\n",
       "      <td>0.498483</td>\n",
       "      <td>0.373685</td>\n",
       "      <td>0.000000</td>\n",
       "      <td>0.344582</td>\n",
       "      <td>0.000000</td>\n",
       "      <td>0.0</td>\n",
       "      <td>0.0</td>\n",
       "    </tr>\n",
       "    <tr>\n",
       "      <th>4</th>\n",
       "      <td>0.259969</td>\n",
       "      <td>0.000000</td>\n",
       "      <td>0.210574</td>\n",
       "      <td>0.873993</td>\n",
       "      <td>0.508795</td>\n",
       "      <td>0.000000</td>\n",
       "      <td>0.349585</td>\n",
       "      <td>0.000000</td>\n",
       "      <td>0.0</td>\n",
       "      <td>0.0</td>\n",
       "    </tr>\n",
       "  </tbody>\n",
       "</table>\n",
       "</div>"
      ],
      "text/plain": [
       "   avg_entropy  forks_count  file_folder_ratio  up_to_dateness  repo_size  \\\n",
       "0     0.251590     0.566949           0.330773        0.026821   0.752917   \n",
       "1     0.270911     0.534790           0.084179        0.708447   0.370083   \n",
       "2     0.431880     0.000000           0.275341        0.597203   0.735055   \n",
       "3     0.232237     0.000000           0.169776        0.498483   0.373685   \n",
       "4     0.259969     0.000000           0.210574        0.873993   0.508795   \n",
       "\n",
       "   watcher_count  file_count  open_issue_count  html_count  is_io_page  \n",
       "0       0.770764    0.405086          0.641663         0.0         0.0  \n",
       "1       0.753491    0.136859          0.151630         0.0         0.0  \n",
       "2       0.000000    0.484467          0.000000         0.0         0.0  \n",
       "3       0.000000    0.344582          0.000000         0.0         0.0  \n",
       "4       0.000000    0.349585          0.000000         0.0         0.0  "
      ]
     },
     "execution_count": 28,
     "metadata": {},
     "output_type": "execute_result"
    }
   ],
   "source": [
    "data_train = aggregate_data(importer.trainset.repos)\n",
    "data_train = data_train[metrics]\n",
    "data_train = normalize_data(data_train)\n",
    "data_train[:5]"
   ]
  },
  {
   "cell_type": "code",
   "execution_count": 29,
   "metadata": {
    "collapsed": false,
    "scrolled": false
   },
   "outputs": [
    {
     "data": {
      "text/html": [
       "<div>\n",
       "<table border=\"1\" class=\"dataframe\">\n",
       "  <thead>\n",
       "    <tr style=\"text-align: right;\">\n",
       "      <th></th>\n",
       "      <th>avg_entropy</th>\n",
       "      <th>forks_count</th>\n",
       "      <th>file_folder_ratio</th>\n",
       "      <th>up_to_dateness</th>\n",
       "      <th>repo_size</th>\n",
       "      <th>watcher_count</th>\n",
       "      <th>file_count</th>\n",
       "      <th>open_issue_count</th>\n",
       "      <th>html_count</th>\n",
       "      <th>is_io_page</th>\n",
       "    </tr>\n",
       "  </thead>\n",
       "  <tbody>\n",
       "    <tr>\n",
       "      <th>0</th>\n",
       "      <td>0.564294</td>\n",
       "      <td>0.730426</td>\n",
       "      <td>0.191077</td>\n",
       "      <td>0.539362</td>\n",
       "      <td>0.747260</td>\n",
       "      <td>0.421838</td>\n",
       "      <td>0.252792</td>\n",
       "      <td>0.150190</td>\n",
       "      <td>0.080901</td>\n",
       "      <td>0.0</td>\n",
       "    </tr>\n",
       "    <tr>\n",
       "      <th>1</th>\n",
       "      <td>0.741162</td>\n",
       "      <td>0.000000</td>\n",
       "      <td>0.020757</td>\n",
       "      <td>0.877016</td>\n",
       "      <td>0.723308</td>\n",
       "      <td>0.000000</td>\n",
       "      <td>0.197237</td>\n",
       "      <td>0.000000</td>\n",
       "      <td>0.000000</td>\n",
       "      <td>0.0</td>\n",
       "    </tr>\n",
       "    <tr>\n",
       "      <th>2</th>\n",
       "      <td>0.769716</td>\n",
       "      <td>0.000000</td>\n",
       "      <td>0.014088</td>\n",
       "      <td>0.971735</td>\n",
       "      <td>0.408197</td>\n",
       "      <td>0.073646</td>\n",
       "      <td>0.167862</td>\n",
       "      <td>0.000000</td>\n",
       "      <td>0.000000</td>\n",
       "      <td>0.0</td>\n",
       "    </tr>\n",
       "    <tr>\n",
       "      <th>3</th>\n",
       "      <td>0.527382</td>\n",
       "      <td>0.485355</td>\n",
       "      <td>0.048594</td>\n",
       "      <td>0.766765</td>\n",
       "      <td>0.763555</td>\n",
       "      <td>0.073646</td>\n",
       "      <td>0.123329</td>\n",
       "      <td>0.834246</td>\n",
       "      <td>0.000000</td>\n",
       "      <td>0.0</td>\n",
       "    </tr>\n",
       "    <tr>\n",
       "      <th>4</th>\n",
       "      <td>0.516772</td>\n",
       "      <td>0.427203</td>\n",
       "      <td>0.162831</td>\n",
       "      <td>0.201886</td>\n",
       "      <td>0.724402</td>\n",
       "      <td>0.441875</td>\n",
       "      <td>0.538326</td>\n",
       "      <td>0.555771</td>\n",
       "      <td>0.209125</td>\n",
       "      <td>0.0</td>\n",
       "    </tr>\n",
       "  </tbody>\n",
       "</table>\n",
       "</div>"
      ],
      "text/plain": [
       "   avg_entropy  forks_count  file_folder_ratio  up_to_dateness  repo_size  \\\n",
       "0     0.564294     0.730426           0.191077        0.539362   0.747260   \n",
       "1     0.741162     0.000000           0.020757        0.877016   0.723308   \n",
       "2     0.769716     0.000000           0.014088        0.971735   0.408197   \n",
       "3     0.527382     0.485355           0.048594        0.766765   0.763555   \n",
       "4     0.516772     0.427203           0.162831        0.201886   0.724402   \n",
       "\n",
       "   watcher_count  file_count  open_issue_count  html_count  is_io_page  \n",
       "0       0.421838    0.252792          0.150190    0.080901         0.0  \n",
       "1       0.000000    0.197237          0.000000    0.000000         0.0  \n",
       "2       0.073646    0.167862          0.000000    0.000000         0.0  \n",
       "3       0.073646    0.123329          0.834246    0.000000         0.0  \n",
       "4       0.441875    0.538326          0.555771    0.209125         0.0  "
      ]
     },
     "execution_count": 29,
     "metadata": {},
     "output_type": "execute_result"
    }
   ],
   "source": [
    "data_test = aggregate_data(importer.testset.repos)\n",
    "data_test = data_test[metrics]\n",
    "data_test = normalize_data(data_test)\n",
    "data_test[:5]"
   ]
  },
  {
   "cell_type": "markdown",
   "metadata": {},
   "source": [
    "## Helper"
   ]
  },
  {
   "cell_type": "code",
   "execution_count": 30,
   "metadata": {
    "collapsed": true
   },
   "outputs": [],
   "source": [
    "def analyze_results(model):\n",
    "    print('acc train:', model.score(data_train, y_train))\n",
    "    print('acc test:', model.score(data_test, y_test))"
   ]
  },
  {
   "cell_type": "code",
   "execution_count": 31,
   "metadata": {
    "collapsed": true
   },
   "outputs": [],
   "source": [
    "def null_acc(y):\n",
    "    return max([len(y[y == x]) for x in np.unique(y)]) / len(y)"
   ]
  },
  {
   "cell_type": "code",
   "execution_count": 32,
   "metadata": {
    "collapsed": false
   },
   "outputs": [
    {
     "name": "stdout",
     "output_type": "stream",
     "text": [
      "acc train: 0.3951890034364261\n",
      "acc test: 0.33544303797468356\n"
     ]
    }
   ],
   "source": [
    "print('acc train:', null_acc(y_train))\n",
    "print('acc test:', null_acc(y_test))"
   ]
  },
  {
   "cell_type": "markdown",
   "metadata": {},
   "source": [
    "## Logistic Regression"
   ]
  },
  {
   "cell_type": "code",
   "execution_count": 33,
   "metadata": {
    "collapsed": false
   },
   "outputs": [
    {
     "data": {
      "text/plain": [
       "LogisticRegression(C=1.0, class_weight=None, dual=False, fit_intercept=True,\n",
       "          intercept_scaling=1, max_iter=100, multi_class='ovr', n_jobs=2,\n",
       "          penalty='l2', random_state=None, solver='liblinear', tol=0.0001,\n",
       "          verbose=0, warm_start=False)"
      ]
     },
     "execution_count": 33,
     "metadata": {},
     "output_type": "execute_result"
    }
   ],
   "source": [
    "logreg = sklearn.linear_model.LogisticRegression(C=1.0, max_iter=100, n_jobs=2)\n",
    "logreg.fit(data_train, y_train)"
   ]
  },
  {
   "cell_type": "code",
   "execution_count": 34,
   "metadata": {
    "collapsed": false
   },
   "outputs": [
    {
     "data": {
      "text/plain": [
       "array([[  1.70606275e-01,   4.45015175e-01,   5.98238348e-01,\n",
       "         -8.76836766e-01,  -1.16230373e-01,   1.33194204e+00,\n",
       "         -9.05880893e-01,  -9.23629107e-01,  -1.55145216e+00,\n",
       "         -7.53316242e-01],\n",
       "       [ -1.02756417e+00,  -1.35992389e+00,   9.03277913e-01,\n",
       "         -1.15737382e+00,   9.91238018e-01,  -7.63730013e-01,\n",
       "          1.35787156e+00,   1.05872152e+00,   9.19771266e-01,\n",
       "          6.82371173e-01],\n",
       "       [  1.24339211e+00,  -6.06605433e-01,  -4.83697332e-01,\n",
       "         -5.11125622e-01,   4.22377725e-01,   5.61526715e-04,\n",
       "         -4.10482091e-01,   9.09000748e-02,  -1.01073927e+00,\n",
       "         -2.90975156e-01],\n",
       "       [ -2.33028034e-01,   1.71219585e+00,  -5.28517383e-01,\n",
       "         -2.29226706e-01,  -2.55733988e-01,   1.07720446e+00,\n",
       "         -7.21228068e-01,  -7.33370416e-01,   2.91701324e-01,\n",
       "         -7.24981836e-01],\n",
       "       [ -6.19429832e-01,   1.87279392e-01,  -2.58387262e-01,\n",
       "          1.03109223e-01,  -3.92861673e-01,  -1.04351095e+00,\n",
       "          4.94866315e-01,  -4.05899708e-01,   4.81286954e-01,\n",
       "         -8.46751450e-01],\n",
       "       [ -3.99628711e-01,  -7.46240408e-01,  -1.28658071e+00,\n",
       "          5.26764150e-01,  -3.00574807e+00,  -7.60683110e-01,\n",
       "         -1.84471500e+00,  -1.69513743e-03,  -8.03529623e-01,\n",
       "         -8.32623181e-01],\n",
       "       [  8.22364074e-02,  -6.89778200e-01,  -2.15337394e-01,\n",
       "         -1.53117877e+00,  -1.94903825e-01,  -9.46288073e-01,\n",
       "         -4.07085788e-01,  -4.60035894e-01,   2.72094653e-01,\n",
       "          1.42176801e+00]])"
      ]
     },
     "execution_count": 34,
     "metadata": {},
     "output_type": "execute_result"
    }
   ],
   "source": [
    "logreg.coef_"
   ]
  },
  {
   "cell_type": "code",
   "execution_count": 35,
   "metadata": {
    "collapsed": false
   },
   "outputs": [
    {
     "name": "stdout",
     "output_type": "stream",
     "text": [
      "acc train: 0.494845360825\n",
      "acc test: 0.449367088608\n"
     ]
    }
   ],
   "source": [
    "analyze_results(logreg)"
   ]
  },
  {
   "cell_type": "markdown",
   "metadata": {},
   "source": [
    "## SVM"
   ]
  },
  {
   "cell_type": "code",
   "execution_count": 36,
   "metadata": {
    "collapsed": false
   },
   "outputs": [
    {
     "data": {
      "text/plain": [
       "SVC(C=20.0, cache_size=200, class_weight=None, coef0=0.0,\n",
       "  decision_function_shape=None, degree=3, gamma='auto', kernel='rbf',\n",
       "  max_iter=-1, probability=False, random_state=1337, shrinking=True,\n",
       "  tol=0.001, verbose=False)"
      ]
     },
     "execution_count": 36,
     "metadata": {},
     "output_type": "execute_result"
    }
   ],
   "source": [
    "svm = sklearn.svm.SVC(C=20.0, random_state=1337)\n",
    "svm.fit(data_train, y_train)"
   ]
  },
  {
   "cell_type": "code",
   "execution_count": 37,
   "metadata": {
    "collapsed": false
   },
   "outputs": [
    {
     "name": "stdout",
     "output_type": "stream",
     "text": [
      "acc train: 0.567010309278\n",
      "acc test: 0.487341772152\n"
     ]
    }
   ],
   "source": [
    "analyze_results(svm)"
   ]
  },
  {
   "cell_type": "markdown",
   "metadata": {},
   "source": [
    "## DecisionTree"
   ]
  },
  {
   "cell_type": "code",
   "execution_count": 38,
   "metadata": {
    "collapsed": false
   },
   "outputs": [],
   "source": [
    "from sklearn.tree import DecisionTreeClassifier"
   ]
  },
  {
   "cell_type": "code",
   "execution_count": 39,
   "metadata": {
    "collapsed": false
   },
   "outputs": [
    {
     "data": {
      "text/plain": [
       "DecisionTreeClassifier(class_weight=None, criterion='gini', max_depth=None,\n",
       "            max_features=None, max_leaf_nodes=None,\n",
       "            min_impurity_split=1e-07, min_samples_leaf=1,\n",
       "            min_samples_split=2, min_weight_fraction_leaf=0.0,\n",
       "            presort=False, random_state=1337, splitter='best')"
      ]
     },
     "execution_count": 39,
     "metadata": {},
     "output_type": "execute_result"
    }
   ],
   "source": [
    "dtc = DecisionTreeClassifier(random_state=1337)\n",
    "dtc.fit(data_train, y_train)"
   ]
  },
  {
   "cell_type": "code",
   "execution_count": 40,
   "metadata": {
    "collapsed": false
   },
   "outputs": [
    {
     "name": "stdout",
     "output_type": "stream",
     "text": [
      "acc train: 0.993127147766\n",
      "acc test: 0.354430379747\n"
     ]
    }
   ],
   "source": [
    "analyze_results(dtc)"
   ]
  },
  {
   "cell_type": "markdown",
   "metadata": {},
   "source": [
    "## Random Forest"
   ]
  },
  {
   "cell_type": "code",
   "execution_count": 41,
   "metadata": {
    "collapsed": false
   },
   "outputs": [
    {
     "data": {
      "text/plain": [
       "RandomForestClassifier(bootstrap=True, class_weight=None, criterion='gini',\n",
       "            max_depth=None, max_features='auto', max_leaf_nodes=None,\n",
       "            min_impurity_split=1e-07, min_samples_leaf=1,\n",
       "            min_samples_split=2, min_weight_fraction_leaf=0.0,\n",
       "            n_estimators=100, n_jobs=1, oob_score=False, random_state=1337,\n",
       "            verbose=0, warm_start=False)"
      ]
     },
     "execution_count": 41,
     "metadata": {},
     "output_type": "execute_result"
    }
   ],
   "source": [
    "from sklearn.ensemble import RandomForestClassifier\n",
    "rf = sklearn.ensemble.RandomForestClassifier(n_estimators=100, random_state=1337)\n",
    "rf.fit(data_train, y_train)"
   ]
  },
  {
   "cell_type": "code",
   "execution_count": 42,
   "metadata": {
    "collapsed": false
   },
   "outputs": [
    {
     "name": "stdout",
     "output_type": "stream",
     "text": [
      "acc train: 0.993127147766\n",
      "acc test: 0.474683544304\n"
     ]
    }
   ],
   "source": [
    "analyze_results(rf)"
   ]
  },
  {
   "cell_type": "markdown",
   "metadata": {},
   "source": [
    "## NN"
   ]
  },
  {
   "cell_type": "code",
   "execution_count": 43,
   "metadata": {
    "collapsed": true
   },
   "outputs": [],
   "source": [
    "from sklearn.neural_network import MLPClassifier"
   ]
  },
  {
   "cell_type": "code",
   "execution_count": 44,
   "metadata": {
    "collapsed": false
   },
   "outputs": [
    {
     "name": "stderr",
     "output_type": "stream",
     "text": [
      "/Users/mbornstein/anaconda/lib/python3.5/site-packages/sklearn/neural_network/multilayer_perceptron.py:563: ConvergenceWarning: Stochastic Optimizer: Maximum iterations reached and the optimization hasn't converged yet.\n",
      "  % (), ConvergenceWarning)\n"
     ]
    },
    {
     "data": {
      "text/plain": [
       "MLPClassifier(activation='relu', alpha=0.0001, batch_size='auto', beta_1=0.9,\n",
       "       beta_2=0.999, early_stopping=False, epsilon=1e-08,\n",
       "       hidden_layer_sizes=(100,), learning_rate='constant',\n",
       "       learning_rate_init=0.001, max_iter=200, momentum=0.9,\n",
       "       nesterovs_momentum=True, power_t=0.5, random_state=1337,\n",
       "       shuffle=True, solver='adam', tol=0.0001, validation_fraction=0.1,\n",
       "       verbose=False, warm_start=False)"
      ]
     },
     "execution_count": 44,
     "metadata": {},
     "output_type": "execute_result"
    }
   ],
   "source": [
    "mlp = MLPClassifier(max_iter=200, hidden_layer_sizes=(100,), random_state=1337)\n",
    "mlp.fit(data_train, y_train)"
   ]
  },
  {
   "cell_type": "code",
   "execution_count": 45,
   "metadata": {
    "collapsed": false
   },
   "outputs": [
    {
     "name": "stdout",
     "output_type": "stream",
     "text": [
      "acc train: 0.54295532646\n",
      "acc test: 0.487341772152\n"
     ]
    }
   ],
   "source": [
    "analyze_results(mlp)"
   ]
  },
  {
   "cell_type": "markdown",
   "metadata": {},
   "source": [
    "## Two Step Stuff"
   ]
  },
  {
   "cell_type": "code",
   "execution_count": 50,
   "metadata": {
    "collapsed": true
   },
   "outputs": [],
   "source": [
    "from main import TwoStepClassifier"
   ]
  },
  {
   "cell_type": "code",
   "execution_count": 51,
   "metadata": {
    "collapsed": true
   },
   "outputs": [],
   "source": [
    "tsc = TwoStepClassifier(\n",
    "    sklearn.linear_model.LogisticRegression(C=1.0, max_iter=100, n_jobs=2),\n",
    "    RandomForestClassifier(n_estimators=100, random_state=1337)\n",
    ")\n",
    "tsc.fit(data_train, y_train)"
   ]
  },
  {
   "cell_type": "code",
   "execution_count": 49,
   "metadata": {
    "collapsed": false
   },
   "outputs": [
    {
     "data": {
      "text/plain": [
       "0.19620253164556961"
      ]
     },
     "execution_count": 49,
     "metadata": {},
     "output_type": "execute_result"
    }
   ],
   "source": [
    "tsc.score(data_test, y_test)"
   ]
  }
 ],
 "metadata": {
  "kernelspec": {
   "display_name": "Python 3",
   "language": "python",
   "name": "python3"
  },
  "language_info": {
   "codemirror_mode": {
    "name": "ipython",
    "version": 3
   },
   "file_extension": ".py",
   "mimetype": "text/x-python",
   "name": "python",
   "nbconvert_exporter": "python",
   "pygments_lexer": "ipython3",
   "version": "3.5.2"
  }
 },
 "nbformat": 4,
 "nbformat_minor": 0
}
